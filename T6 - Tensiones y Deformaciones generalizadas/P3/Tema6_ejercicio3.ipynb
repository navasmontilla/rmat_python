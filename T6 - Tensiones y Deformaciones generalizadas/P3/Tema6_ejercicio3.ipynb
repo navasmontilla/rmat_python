{
 "cells": [
  {
   "cell_type": "code",
   "execution_count": 3,
   "metadata": {},
   "outputs": [
    {
     "name": "stdout",
     "output_type": "stream",
     "text": [
      "Probamos con sigma_max y obtenemos F_max= 25.5 KN\n",
      "Probamos con tau_max y obtenemos F_max= 14.4 KN\n"
     ]
    }
   ],
   "source": [
    "from sympy import *             # Librería para trabajo simbólico\n",
    "import math                     # Librería para utilizar símbolos matemáticos como el número pi, que se escribe como math.pi\n",
    "import numpy as np              # Librería para poder trabajar con matrices y vectores\n",
    "import matplotlib.pyplot as plt # Librería para poder dibujar gráficas\n",
    "\n",
    "tau_max= 7.2e6 #Pa\n",
    "sigma_max= 25.5e6 #Pa\n",
    "\n",
    "A=0.04*0.025 #m^2\n",
    "\n",
    "F_max=sigma_max*A/1000 #KN\n",
    "\n",
    "print(\"Probamos con sigma_max y obtenemos F_max=\",F_max, \"KN\")\n",
    "\n",
    "F_max=tau_max*2*A/1000 #KN\n",
    "\n",
    "print(\"Probamos con tau_max y obtenemos F_max=\",F_max, \"KN\")\n"
   ]
  },
  {
   "cell_type": "code",
   "execution_count": null,
   "metadata": {},
   "outputs": [],
   "source": []
  }
 ],
 "metadata": {
  "kernelspec": {
   "display_name": "Python 3",
   "language": "python",
   "name": "python3"
  },
  "language_info": {
   "codemirror_mode": {
    "name": "ipython",
    "version": 3
   },
   "file_extension": ".py",
   "mimetype": "text/x-python",
   "name": "python",
   "nbconvert_exporter": "python",
   "pygments_lexer": "ipython3",
   "version": "3.7.6"
  }
 },
 "nbformat": 4,
 "nbformat_minor": 4
}
