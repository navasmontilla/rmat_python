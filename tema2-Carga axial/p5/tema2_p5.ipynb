{
 "cells": [
  {
   "cell_type": "markdown",
   "metadata": {},
   "source": [
    "## **Tema 2 - P5. Enunciado**\n",
    "------------------------------------------------------------------------------\n",
    "***"
   ]
  },
  {
   "cell_type": "markdown",
   "metadata": {},
   "source": [
    "Una viga totalmente rígida de una tonelada está suspendida de cuatro tirantes iguales que se encuentran en un mismo plano vertical, colocados tal y como se indica en la figura. Determinar el esfuerzo de tracción en cada hilo cuando suponiendo conocidos la longitud de los hilos ($l$), su sección ($A$) y su módulo de elasticidad ($E$). \n",
    "\n",
    "Datos: $P=1000$ Kp,  $L=2$ m y $d=1.6$ m.\n",
    "\n",
    "Se pide:\n",
    "- a) Planteando ecuaciones de compatibilidad.\n",
    "- b) Mediante el teorema de Menabrea.\n",
    "\n",
    "<img src=\"t2_p5.png\" width=\"400\">"
   ]
  },
  {
   "cell_type": "markdown",
   "metadata": {},
   "source": [
    "**Resolución:**\n",
    "------------------------------------------------------------------------------\n"
   ]
  },
  {
   "cell_type": "markdown",
   "metadata": {},
   "source": [
    "**Inicialización**\n",
    "\n",
    "Lo primero que debemos hacer es cargar las librerías necesarias de Python. "
   ]
  },
  {
   "cell_type": "code",
   "execution_count": 1,
   "metadata": {},
   "outputs": [],
   "source": [
    "from sympy import *             # Librería para trabajo simbólico\n",
    "import math                     # Librería para utilizar símbolos matemáticos como el número pi, que se escribe como math.pi\n",
    "import numpy as np              # Librería para poder trabajar con matrices y vectores\n",
    "import matplotlib.pyplot as plt # Librería para poder dibujar gráficas"
   ]
  },
  {
   "cell_type": "markdown",
   "metadata": {},
   "source": [
    "**Equilibrio global**\n",
    "\n",
    "Para comenzar escribiremos las ecuaciones de equilibrio global para la barra horizontal:\n",
    "\n",
    "$$\\sum F_y=0\\,,\\qquad \\sum M_z=0$$\n",
    "\n",
    "\n",
    "<img src=\"g843.png\" width=\"300\">\n",
    "\n",
    "\n",
    "que quedarán:\n",
    "\n",
    "$$N_1+N_2+N_3+N_4-P=0$$\n",
    "\n",
    "$$-N_1(L+d)-N_2d+N_3(2L-d)+N_4(3L-d)=0$$\n",
    "\n",
    "donde $N_i$ es el esfuerzo normal en el tirante $i$, $L=2$ m y $d=1.6$ m.\n",
    "\n",
    "Dado que tenemos 2 ecuaciones y 4 incógnitas, el problema es hiperestático."
   ]
  },
  {
   "cell_type": "markdown",
   "metadata": {},
   "source": [
    "**Resolución mediante ecuaciones de compatibilidad**\n",
    "\n",
    "Para ello nos imaginamos la estructura con una pequeña deformación en los tirantes, generando una inclinación $\\alpha$ de la barra horizontal:\n",
    "\n",
    "<img src=\"g844.png\" width=\"350\">\n",
    "\n",
    "Podemos relacionar las elongaciones de cada tirante, $\\Delta L_i$, entre ellas utilizando relaciones trigonométricas. Por ejemplo, para los tirantes 3 y 4 tendremos:\n",
    "\n",
    "$$ \\sin(\\alpha)=\\frac{\\Delta L_3 - \\Delta L_4}{2} $$\n",
    "\n",
    "<img src=\"g845.png\" width=\"350\">\n",
    "\n",
    "Con estas relaciones obtenemos las siguientes ecuaciones de compatibilidad:\n",
    "\n",
    "$$ 4(\\Delta L_3 -\\Delta L_4)=\\Delta L_1-\\Delta L_4  $$\n",
    "\n",
    "$$ 3(\\Delta L_3 -\\Delta L_4)=\\Delta L_2-\\Delta L_4  $$\n",
    "\n",
    "Y sustitiyendo  $\\Delta L_i=\\frac{N_i l}{EA}$ obtenemos:\n",
    "\n",
    "$$ 4N_3 -N_1-3N_4=0  $$\n",
    "\n",
    "$$ 3N_3-2N_4-N_2=0 $$\n",
    "\n",
    "Que complementan a las ecuaciones de equilibrio estático, permitiendo así resolver el sistema."
   ]
  },
  {
   "cell_type": "code",
   "execution_count": 2,
   "metadata": {},
   "outputs": [
    {
     "name": "stdout",
     "output_type": "stream",
     "text": [
      "Los esfuerzos en los tirantes son:\n",
      "N1= 2.90000000000000 KN\n",
      "N2= 2.70000000000000 KN\n",
      "N3= 2.30000000000000 KN\n",
      "N4= 2.10000000000000 KN\n"
     ]
    }
   ],
   "source": [
    "#Se asigna valor a las variables conocidas\n",
    "L=2.0\n",
    "d=1.6\n",
    "P=1000*10 #N   consideramos P=1000Kp*10m/s^2 = 100000 N\n",
    "\n",
    "N1,N2,N3,N4=symbols('N1 N2 N3 N4') #variables simbólicas (esfuerzos axiales). Hay que declararlas como simbólicas ya que\n",
    "                                   #son las incógnitas a resolver mediante la funcion linsolve\n",
    "\n",
    "#-------------------------------------#\n",
    "#  Equilibrio global + compatibilidad\n",
    "#-------------------------------------#\n",
    "#Se utiliza la funcion \"linsolve\" que resuelve ecuaciones y sistemas de ecuaciones.\n",
    "sol,=linsolve([ \n",
    "                N1+N2+N3+N4-P,\n",
    "                -N1*(L+d)-N2*d+N3*(2*L-d)+N4*(3*L-d),\n",
    "                4*N3 -N1-3*N4,\n",
    "                3*N3-2*N4-N2\n",
    "             ], \n",
    "                (N1,N2,N3,N4)  #Es la lista de incógnitas a resolver\n",
    "            ) \n",
    "N1v=sol[0] \n",
    "N2v=sol[1]\n",
    "N3v=sol[2]\n",
    "N4v=sol[3]\n",
    "\n",
    "print(\"Los esfuerzos en los tirantes son:\")\n",
    "print(\"N1=\", N1v/1000, \"KN\")\n",
    "print(\"N2=\", N2v/1000, \"KN\")\n",
    "print(\"N3=\", N3v/1000, \"KN\")\n",
    "print(\"N4=\", N4v/1000, \"KN\")"
   ]
  },
  {
   "cell_type": "markdown",
   "metadata": {},
   "source": [
    "**Resolución mediante Teorema de Menabrea**\n",
    "\n",
    "El teorema de Menabrea nos permite obtener un sistema de ecuaciones con el que resolver el problema. Para ello primero debemos calcular la energía de deformación del sistema completo utilizando la fórmula:\n",
    "\n",
    "$$U=\\sum_{i=1}^{4} \\frac{N_i^2 l}{2EA}=  \\frac{l}{2EA}(N_1^2+N_2^2+N_3^2+N_4^2) $$\n",
    "\n",
    "y ahora **usando las dos ecuaciones de equilibrio** podemos escribir la energía en función solamente de dos variables:"
   ]
  },
  {
   "cell_type": "code",
   "execution_count": 3,
   "metadata": {},
   "outputs": [
    {
     "name": "stdout",
     "output_type": "stream",
     "text": [
      "N3= -4.0*N1 - 3.0*N2 + 22000.0\n",
      "N4= 3.0*N1 + 2.0*N2 - 12000.0\n",
      "\n",
      "La energía de deformación de la barra es:\n",
      "U= 1.0*L*(26.0*N1**2 + 36.0*N1*N2 - 248000.0*N1 + 14.0*N2**2 - 180000.0*N2 + 628000000.0)/(A*E)\n"
     ]
    }
   ],
   "source": [
    "E,A,l=symbols('E A L')\n",
    "\n",
    "#Escribimos N3 y N4 en función del resto de variables usando eqs. equilibrio. Para ello resolvemos el sistema para esas dos variables\n",
    "sol,=linsolve([ \n",
    "                N1+N2+N3+N4-P,\n",
    "                -N1*(L+d)-N2*d+N3*(2*L-d)+N4*(3*L-d),\n",
    "             ], \n",
    "                (N3,N4)  #Es la lista de incógnitas a resolver\n",
    "            ) \n",
    "N3=sol[0] #asignamos la solución del sistema a la variable f\n",
    "N4=sol[1]\n",
    "print(\"N3=\", N3)\n",
    "print(\"N4=\", N4)\n",
    "\n",
    "#Escribimos la expresión de la energía. Veremos que queda en función de N1 y N4 solamente.\n",
    "U=l/(E*A)*(N1**2+N2**2+N3**2+N4**2)\n",
    "\n",
    "print(\"\")\n",
    "print(\"La energía de deformación de la barra es:\")\n",
    "print(\"U=\", simplify(U))"
   ]
  },
  {
   "cell_type": "markdown",
   "metadata": {},
   "source": [
    "Ahora aplicaremos el Teorema de Menabrea, obteniendo el siguiente sistema cuya resolución nos dará el esfuerzo en 1 y 2:\n",
    "\n",
    "$$\\frac{\\partial U}{\\partial N1}=0\\,,\\qquad \\frac{\\partial U}{\\partial N2}=0$$\n"
   ]
  },
  {
   "cell_type": "code",
   "execution_count": 5,
   "metadata": {},
   "outputs": [
    {
     "name": "stdout",
     "output_type": "stream",
     "text": [
      "Las ecuaciones obtenidas por Menabrea son:\n",
      "Ecuación 1: L*(52.0*N1 + 36.0*N2 - 248000.0)/(A*E)\n",
      "Ecuación 2: L*(36.0*N1 + 28.0*N2 - 180000.0)/(A*E)\n",
      "Los esfuerzos en los tirantes son:\n",
      "N1= 2.89999999999999 KN\n",
      "N2= 2.70000000000001 KN\n",
      "N2= 2.30000000000000 KN\n",
      "N2= 2.10000000000000 KN\n"
     ]
    }
   ],
   "source": [
    "E1=U.diff(N1)\n",
    "E2=U.diff(N2)\n",
    "\n",
    "print(\"Las ecuaciones obtenidas por Menabrea son:\")\n",
    "print(\"Ecuación 1:\", simplify(E1))\n",
    "print(\"Ecuación 2:\", simplify(E2))\n",
    "\n",
    "#Y ahora resolvemos el sistema compuesto por E1 y E2\n",
    "sol,=linsolve([ \n",
    "                E1,\n",
    "                E2,\n",
    "             ], \n",
    "                (N1,N2)  #Es la lista de incógnitas a resolver\n",
    "            ) \n",
    "N1v=sol[0] \n",
    "N2v=sol[1]\n",
    "\n",
    "\n",
    "print(\"Los esfuerzos en los tirantes son:\")\n",
    "print(\"N1=\", N1v/1000, \"KN\")\n",
    "print(\"N2=\", N2v/1000, \"KN\")\n",
    "print(\"N2=\", N3.subs([(N1,N1v),(N2,N2v)])/1000, \"KN\")\n",
    "print(\"N2=\", N4.subs([(N1,N1v),(N2,N2v)])/1000, \"KN\")"
   ]
  },
  {
   "cell_type": "code",
   "execution_count": null,
   "metadata": {},
   "outputs": [],
   "source": []
  }
 ],
 "metadata": {
  "kernelspec": {
   "display_name": "Python 3",
   "language": "python",
   "name": "python3"
  },
  "language_info": {
   "codemirror_mode": {
    "name": "ipython",
    "version": 3
   },
   "file_extension": ".py",
   "mimetype": "text/x-python",
   "name": "python",
   "nbconvert_exporter": "python",
   "pygments_lexer": "ipython3",
   "version": "3.8.5"
  }
 },
 "nbformat": 4,
 "nbformat_minor": 2
}
