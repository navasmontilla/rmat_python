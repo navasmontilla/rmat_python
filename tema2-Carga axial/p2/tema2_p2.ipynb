{
 "cells": [
  {
   "cell_type": "markdown",
   "metadata": {},
   "source": [
    "## **Tema 2 - P2. Enunciado**\n",
    "------------------------------------------------------------------------------\n",
    "***"
   ]
  },
  {
   "cell_type": "markdown",
   "metadata": {},
   "source": [
    "Un pilote de madera, enterrado en la tierra, soporta una carga P enteramente por fricción a lo largo de sus costados. Se supone que la fuerza de fricción $f$ por unidad de longitud de pilote está uniformemente distribuida en la superficie del pilote. El pilote tiene longitud $L$, área transversal $A$ y módulo de elasticidad $E$.\n",
    "\n",
    "Se pide:\n",
    "- a) Obtener una fórmula para el acortamiento $\\Delta L$ del pilote en términos de $P$, $L$, $E$ y $A$.\n",
    "- b) Dibujar un diagrama que muestre cómo varía la tensión de compresión $\\sigma_c$ a lo largo del pilote. Realizar un diagrama de las fuerzas que actuan sobre el pilote.\n"
   ]
  },
  {
   "cell_type": "markdown",
   "metadata": {},
   "source": [
    "**Resolución:**\n",
    "------------------------------------------------------------------------------\n"
   ]
  },
  {
   "cell_type": "markdown",
   "metadata": {},
   "source": [
    "**Inicialización**\n",
    "\n",
    "Lo primero que debemos hacer es cargar las librerías necesarias de Python. Para este problema, en particular, será de gran utilidad la librería *sympy* que permite realizar cálculo simbólico (como haríamos con Máxima, Maple o Mathemática). También la librería *matplotlib* nos será de utilidad para hacer la gráfica."
   ]
  },
  {
   "cell_type": "code",
   "execution_count": 1,
   "metadata": {},
   "outputs": [],
   "source": [
    "from sympy import *             # Librería para trabajo simbólico\n",
    "import math                     # Librería para utilizar símbolos matemáticos como el número pi, que se escribe como math.pi\n",
    "import numpy as np              # Librería para poder trabajar con matrices y vectores\n",
    "import matplotlib.pyplot as plt # Librería para poder dibujar gráficas"
   ]
  },
  {
   "cell_type": "markdown",
   "metadata": {},
   "source": [
    "Y después definiremos las variables simbólicas necesarias (aquellas que son datos del problema, con las que tendremos que trabajar y que no se les ha asignado ningún valor, por lo que todavía son \"símbolos\")."
   ]
  },
  {
   "cell_type": "code",
   "execution_count": 2,
   "metadata": {},
   "outputs": [],
   "source": [
    "P,L,A,E,f,x,N=symbols('P L A E f x N') #variables simbólicas"
   ]
  },
  {
   "cell_type": "markdown",
   "metadata": {},
   "source": [
    "**Cálculo del esfuerzo de fricción $f$**\n",
    "\n",
    "El primer paso es expresar $f$ en función de $P$ y $L$ utilizando las ecuaciones de equilibrio estático (global)."
   ]
  },
  {
   "cell_type": "code",
   "execution_count": 3,
   "metadata": {},
   "outputs": [
    {
     "name": "stdout",
     "output_type": "stream",
     "text": [
      "El esfuerzo de fricción por ud. de longitud es:\n",
      "f= P/L\n"
     ]
    }
   ],
   "source": [
    "#-------------------------------------#\n",
    "#          Equilibrio global\n",
    "#-------------------------------------#\n",
    "#Se utiliza la funcion \"linsolve\" que resuelve ecuaciones y sistemas de ecuaciones.\n",
    "#Añadimos la ecuación ΣFx=0 ->  P - ∫fdx = 0  (los límites de la integral irán entre 0 y L)\n",
    "#Nota: Para escribir en lenguaje Python esa integral, usamos la función integrate(f, (x, 0, L))\n",
    "sol,=linsolve([ \n",
    "                P-integrate(f, (x, 0, L)) \n",
    "             ], \n",
    "                (f)  #Es la lista de incógnitas a resolver\n",
    "            ) \n",
    "f=sol[0] #asignamos la solución del sistema a la variable f\n",
    "\n",
    "print(\"El esfuerzo de fricción por ud. de longitud es:\")\n",
    "print(\"f=\", f)"
   ]
  },
  {
   "cell_type": "markdown",
   "metadata": {},
   "source": [
    "**Cálculo del acortamiento del pilote**\n",
    "\n",
    "Para calcular el acortamiento del pilote utilizaremos la fórmula:\n",
    "\n",
    "$$\\Delta L=\\int_{0}^{L} \\frac{N(x)}{EA}dx$$\n",
    "\n",
    "por lo tanto lo primero de todo será obtener la expresión de $N(x)$ mediante el método de las secciones:\n"
   ]
  },
  {
   "cell_type": "code",
   "execution_count": 4,
   "metadata": {},
   "outputs": [
    {
     "name": "stdout",
     "output_type": "stream",
     "text": [
      "El esfuerzo axial en x es N(x):\n",
      "N(x)= (-L*P + P*x)/L\n"
     ]
    }
   ],
   "source": [
    "#-------------------------------------#\n",
    "#          Equilibrio elástico\n",
    "#-------------------------------------#\n",
    "#Se utiliza la funcion \"linsolve\" que resuelve ecuaciones y sistemas de ecuaciones.\n",
    "#Añadimos la ecuación ΣFx=0 ->  P - ∫fdx + N(x) = 0  (los límites de la integral irán entre 0 y x)\n",
    "#Nota: Para escribir en lenguaje Python esa integral, usamos la función integrate(f, (x, 0, L))\n",
    "sol,=linsolve([ \n",
    "                P-integrate(f, (x, 0, x)) + N\n",
    "             ], \n",
    "                (N)  #Es la lista de incógnitas a resolver\n",
    "            ) \n",
    "N=sol[0] #asignamos la solución del sistema a la variable f\n",
    "\n",
    "print(\"El esfuerzo axial en x es N(x):\")\n",
    "print(\"N(x)=\", N)"
   ]
  },
  {
   "cell_type": "markdown",
   "metadata": {},
   "source": [
    "Y una vez tenemos $N(x)$ ya podemos calcular la integral para obtener $\\Delta L$:"
   ]
  },
  {
   "cell_type": "code",
   "execution_count": 5,
   "metadata": {},
   "outputs": [
    {
     "name": "stdout",
     "output_type": "stream",
     "text": [
      "El acortamiento de la barra es:\n",
      "DeltaL= -L*P/(2*A*E)\n"
     ]
    }
   ],
   "source": [
    "DL=integrate(N/(E*A), (x, 0, L))\n",
    "\n",
    "print(\"El acortamiento de la barra es:\")\n",
    "print(\"DeltaL=\", DL)"
   ]
  },
  {
   "cell_type": "markdown",
   "metadata": {},
   "source": [
    "**Cálculo de la expresión de la tensión de compresión**\n",
    "\n",
    "Para calcular la tensión de compresión simplemente dividiremos $N(x)$ por el área:\n",
    "\n",
    "$$\\sigma(x)=\\frac{N(x)}{A}$$"
   ]
  },
  {
   "cell_type": "code",
   "execution_count": 6,
   "metadata": {},
   "outputs": [
    {
     "name": "stdout",
     "output_type": "stream",
     "text": [
      "La tensión de compresión es:\n",
      "sigma(x)= (-L*P + P*x)/(A*L)\n"
     ]
    }
   ],
   "source": [
    "sigma=N/A\n",
    "\n",
    "print(\"La tensión de compresión es:\")\n",
    "print(\"sigma(x)=\", sigma)"
   ]
  },
  {
   "cell_type": "markdown",
   "metadata": {},
   "source": [
    "**Representación gráfica de $\\sigma(x)$**\n",
    "\n",
    "Para realizar la representación gráfica daremos valores a las variables. Se representará un diagrama de los esfuerzos que actuan sobre el pilote cuando aplicamos el método de las secciones y cortamos por $x_{cut}$. En el código, al punto de corte lo llamaremos ```cut```. Cambiando el valor de esta variable veremos gráficamente como se modifica el esfuerzo axial."
   ]
  },
  {
   "cell_type": "code",
   "execution_count": 8,
   "metadata": {
    "scrolled": false
   },
   "outputs": [
    {
     "name": "stdout",
     "output_type": "stream",
     "text": [
      "Los valores numéricos de las reacciones considerando P= 1000.0 N, A= 0.5  m^2, L= 10.0  m son:\n",
      "sigma= 200.0*x - 2000.0  N\n"
     ]
    },
    {
     "data": {
      "text/plain": [
       "[(-2.0, 12.0)]"
      ]
     },
     "execution_count": 8,
     "metadata": {},
     "output_type": "execute_result"
    },
    {
     "data": {
      "image/png": "[encoded data removed]",
      "text/plain": [
       "<Figure size 1296x720 with 2 Axes>"
      ]
     },
     "metadata": {
      "needs_background": "light"
     },
     "output_type": "display_data"
    }
   ],
   "source": [
    "Pval=1000.0 #N\n",
    "Aval=0.5 #m^2\n",
    "Lval=10.0 #m^2\n",
    "\n",
    "cut=6.0 #m\n",
    "\n",
    "#Sustituimos los valores numéricos en la expresión de sigma y N y las llamamos de otra manera para conservar la original\n",
    "sg=sigma.subs([(P,Pval),(A,Aval),(L,Lval)])\n",
    "ng=N.subs([(P,Pval),(A,Aval),(L,Lval)])\n",
    "\n",
    "print(\"Los valores numéricos de las reacciones considerando P=\",Pval,\"N, A=\",Aval,\" m^2, L=\",Lval, \" m son:\")\n",
    "print(\"sigma=\", sg, \" N\")\n",
    "\n",
    "\n",
    "\n",
    "# Representación gráfica\n",
    "Xmin= 0 ; Xmax=Lval; nopto=500 # (Xmin,Xmax,nopto) = (extremo inferior, extremo superior, número de puntos que se pintan)\",\n",
    "xx=np.zeros((nopto,))\n",
    "ss=np.zeros((nopto,))\n",
    "nn=np.zeros((nopto,))\n",
    "\n",
    "for i in range(0,nopto): \n",
    "    xx[i] = Xmin+i*(Xmax-Xmin)/(nopto-1) \n",
    "    ss[i] = sg.subs([(x,xx[i])])\n",
    "    nn[i] = ng.subs([(x,xx[i])])\n",
    "    \n",
    "filename=\"Nombre de la función\"\n",
    "fig, (ax,ax2) = plt.subplots(2,1,figsize=(18, 10))  # Esto es como decir \"Abracadabra! Hágase la figura!\". \n",
    "                          # Se genera un objeto figura que definimos a continuación\n",
    "\n",
    "d=2*sqrt(Aval/math.pi)   \n",
    "nmag=ng.subs([(x,cut)]) #magnitud de sigma en la sección de corte\n",
    "maxval=max(abs(i) for i in nn)\n",
    "ratio=abs(nmag)/maxval\n",
    "\n",
    "ax.plot((0,Lval,Lval,0,0),(0,0,d,d,0), color='black',linewidth=2,linestyle='--')\n",
    "ax.plot((0,cut,cut,0,0),(0,0,d,d,0), color='black',linewidth=3)\n",
    "ax.annotate(\"\", (0, d/2), (-Lval*0.15, d/2) , arrowprops={'arrowstyle':'->','mutation_scale':25, 'lw': 3.0, 'color': 'r'})\n",
    "ax.annotate(\"\", (cut, d/2), (cut+Lval*0.15*ratio, d/2) , arrowprops={'arrowstyle':'->','mutation_scale':25, 'lw': 3.0, 'color': 'r'})\n",
    "for i in range(0,int(nopto*cut/Lval),20):   \n",
    "    ax.annotate(\"\", (xx[i], d/2), (xx[i+15], d/2),arrowprops={'arrowstyle':'->','lw': 1.2, 'color': 'r'})\n",
    "ax.set_xlabel(\"x (m)\") # Nombre y unidades del eje x\n",
    "ax.set_ylabel(\"y (m))\") # Nombre y unidades del eje y\n",
    "ax.set_aspect('equal', adjustable='box')\n",
    "ax.set(xlim=(-float(Lval)*0.2, float(Lval)*1.2), ylim=(-float(d)*0.4, float(d)*1.4)) #Se imponen los límites de los ejes\n",
    "\n",
    "ax.text(-Lval*0.07, 0.75*d, \"$P$\", size=18, color='r', va=\"baseline\", ha=\"right\", multialignment=\"left\")\n",
    "ax.text(cut/2, 0.66*d, \"$f$\", size=18, color='r', va=\"baseline\", ha=\"right\", multialignment=\"left\")\n",
    "if cut<10.0:\n",
    "    ax.text(cut+Lval*0.05, 0.66*d, \"$N$\", size=18, color='r', va=\"baseline\", ha=\"right\", multialignment=\"left\")\n",
    "\n",
    "\n",
    "    \n",
    "    \n",
    "    \n",
    "ax2.plot(xx,ss, color=\"blue\")\n",
    "ax2.set_xlabel(\"x (m)\") # Nombre y unidades del eje x\n",
    "ax2.set_ylabel(\"sigma (N)\") # Nombre y unidades del eje y\n",
    "ax2.set(xlim=(-float(Lval)*0.2, float(Lval)*1.2)) #Se imponen los límites de los ejes\n"
   ]
  },
  {
   "cell_type": "code",
   "execution_count": null,
   "metadata": {},
   "outputs": [],
   "source": []
  }
 ],
 "metadata": {
  "kernelspec": {
   "display_name": "Python 3",
   "language": "python",
   "name": "python3"
  },
  "language_info": {
   "codemirror_mode": {
    "name": "ipython",
    "version": 3
   },
   "file_extension": ".py",
   "mimetype": "text/x-python",
   "name": "python",
   "nbconvert_exporter": "python",
   "pygments_lexer": "ipython3",
   "version": "3.7.6"
  }
 },
 "nbformat": 4,
 "nbformat_minor": 2
}
