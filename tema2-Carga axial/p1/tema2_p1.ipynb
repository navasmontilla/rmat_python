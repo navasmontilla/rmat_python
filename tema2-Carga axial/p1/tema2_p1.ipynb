{
 "cells": [
  {
   "cell_type": "markdown",
   "metadata": {},
   "source": [
    "**Ejercicio 1**\n",
    "> Una barra de acero circular de longitud L y diámetro d está empotrada en el suelo y sostiene sobre ella\n",
    "> un cubo cargado de piedras cuyo peso es W.\n",
    " - (a) Obtenga una fórmula para el esfuerzo máximo $\\sigma_{max}$ en la barra, tomando en cuenta el peso de la barra. (3.0 puntos)\n",
    " - (b) Calcule la tensión máxima si L=1 m, d=8 cm y W=1,5 kN.(3.0 puntos)\n",
    " - (c) Representar gráficamente la tensión máxima en función de W (4.0 puntos)\n",
    " \n",
    "*Dato: densidad del acero $\\rho=77.0 kN/m^3$"
   ]
  },
  {
   "cell_type": "code",
   "execution_count": 15,
   "metadata": {},
   "outputs": [
    {
     "name": "stdout",
     "output_type": "stream",
     "text": [
      "La tensión máxima de la barra es = 1.0 Unidades\n"
     ]
    }
   ],
   "source": [
    "# Responder a apartados (a) y (b)\n",
    "import math                     # Librería para utilizar símbolos matemáticos como el número pi, que se escribe como math.pi\n",
    "\n",
    "# Resolver aquí el ejercicio\n",
    "#...\n",
    "\n",
    "tension= 1.0 # Escribir unidades  (Cambiar 1.0 por el resultado obtenido)\n",
    "# Pintar los resultados por pantalla\n",
    "print(\"La tensión máxima de la barra es =\",tension ,\"Unidades\")\n"
   ]
  },
  {
   "cell_type": "code",
   "execution_count": 17,
   "metadata": {},
   "outputs": [
    {
     "name": "stdout",
     "output_type": "stream",
     "text": [
      "f(x) =  x**2\n"
     ]
    },
    {
     "data": {
      "text/plain": [
       "<matplotlib.legend.Legend at 0x1951f9b7e08>"
      ]
     },
     "execution_count": 17,
     "metadata": {},
     "output_type": "execute_result"
    },
    {
     "data": {
      "image/png": "[encoded data removed]",
      "text/plain": [
       "<Figure size 432x288 with 1 Axes>"
      ]
     },
     "metadata": {
      "needs_background": "light"
     },
     "output_type": "display_data"
    }
   ],
   "source": [
    "# Responder apartado (c)\n",
    "\n",
    "# No hay que asustarse por las siguientes líneas. Leed los comentarios y veréis que no es tan horrible como parece.\n",
    "# Adaptar para responder al apartado (c)\n",
    "\n",
    "from sympy import *             # Librería para trabajo simbólico\n",
    "import math                     # Librería para utilizar símbolos matemáticos como el número pi, que se escribe como math.pi\n",
    "import numpy as np              # Librería para poder trabajar con matrices y vectores\n",
    "import matplotlib.pyplot as plt # Librería para poder dibujar gráficas\n",
    "\n",
    "x=symbols('x')  # Gracias a la librería sympy, podemos utilizar aquí la x como si fuera un símbolo, en lugar de tener un valor\n",
    "                # dado. Más adelante veremos que se pueden hacer derivadas e integrales!!\n",
    "\n",
    "#-------------------------------------------------------------------------------------#\n",
    "# Define aquí tu función\n",
    "def func_x(x):        \n",
    "    return  x**2  # En este ejemplo f(x)=x**2 , donde ** signfica elevar al cuadrado\n",
    "#-------------------------------------------------------------------------------------#\n",
    "\n",
    "# Se \"abrevia\" la notación (mejor escribir f que func_x(x))\n",
    "f=func_x(x) # A partir de aquí la función se llamará simplemente f\n",
    "print(\"f(x) = \",f)\n",
    "\n",
    "# Se guardan los valores x y f(x) en dos listas para pintarlos después.\n",
    "Xmin= -15 ; Xmax=15; nopto=500 # (Xmin,Xmax,nopto) = (extremo inferior, extremo superior, número de puntos que se pintan)\n",
    "xx=np.zeros((nopto,)) # Una lista (vector) de nopto zeros. Contendrá todos los valores x que se van a utilizar\n",
    "ff=np.zeros((nopto,)) # Una lista (vector) de nopto zeros. Contendrá todos los valores de f(x) que se van a pintar\n",
    "\n",
    "\n",
    "for i in range(0,nopto):                 # Loop!! La i toma valores en el intervalo [0,nopto) (El último valor no se toma)     \n",
    "    xx[i] = Xmin+i*(Xmax-Xmin)/(nopto-1) # Se asignan los valores a xx\n",
    "    ff[i]=f.subs(x,xx[i])                # Se asignan los valores a la función. \n",
    "                                         # f.subs sustituye en cada x el valor dado por xx    \n",
    "    #print(xx[i],ff[i])                  # Descomentar par ver los valores por pantalla\n",
    "\n",
    "\n",
    "# Se pinta f(x) en función de x\n",
    "filename=\"Nombre de la función\"\n",
    "fig, ax = plt.subplots()  # Esto es como decir \"Abracadabra! Hágase la figura!\". \n",
    "                          # Se genera un objeto figura que definimos a continuación\n",
    "ax.plot(xx,ff, color=\"blue\", label=\"f(x) (unidades?)\") # Se le dice a Python, ¡¡¡pinta f(x)!!!\n",
    "ax.set_xlabel(\"$x (unidades?)\") # Nombre y unidades del eje x\n",
    "ax.set_ylabel(\" Valor de la función (unidades?)\") # Nombre y unidades del eje y\n",
    "ax.legend() # Hace que se pinte la leyenda\n",
    "\n"
   ]
  },
  {
   "cell_type": "code",
   "execution_count": null,
   "metadata": {},
   "outputs": [],
   "source": []
  }
 ],
 "metadata": {
  "kernelspec": {
   "display_name": "Python 3",
   "language": "python",
   "name": "python3"
  },
  "language_info": {
   "codemirror_mode": {
    "name": "ipython",
    "version": 3
   },
   "file_extension": ".py",
   "mimetype": "text/x-python",
   "name": "python",
   "nbconvert_exporter": "python",
   "pygments_lexer": "ipython3",
   "version": "3.7.6"
  }
 },
 "nbformat": 4,
 "nbformat_minor": 2
}
