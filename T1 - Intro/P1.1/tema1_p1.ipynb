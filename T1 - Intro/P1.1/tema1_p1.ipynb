{
 "cells": [
  {
   "cell_type": "markdown",
   "metadata": {},
   "source": [
    "## **Tema 1 - P3. Enunciado**\n",
    "------------------------------------------------------------------------------\n",
    "***"
   ]
  },
  {
   "cell_type": "markdown",
   "metadata": {},
   "source": [
    "Para la viga cargada y apoyada según la figura, determinar los esfuerzos en las secciones con posiciones $x=1$, $x=4$, $x=5$, $x=7$. Tomar el origen de $x$ en el extremo $A$ y ejes $x$ horizontal, $y$ vertical. \n",
    "\n",
    "<img src=\"enunciado.png\" width=\"450\">\n",
    "\n",
    "Datos: $L_1$= 2 m, $L_2$= 2.3 m, $T$= 1250 N$\\cdot$ m, $F$= 4000 N, $q$= 3000 N/m.\n",
    "\n",
    "\n"
   ]
  },
  {
   "cell_type": "markdown",
   "metadata": {},
   "source": [
    "**Resolución:**\n",
    "------------------------------------------------------------------------------\n"
   ]
  },
  {
   "cell_type": "markdown",
   "metadata": {},
   "source": [
    "**Identificación de los apoyos y reacciones**\n",
    "\n",
    "Para comenzar, es necesario identificar los apoyos de la barra y las reacciones que tienen asociadas. Estas reacciones aparecen cuando el apoyo impide algún grado de libertad. En este caso tenemos:\n",
    "\n",
    "- Apoyo A: Apoyo articulado fijo. Este tipo de apoyo permite el giro libre de la barra alrededor del punto A, pero no permite el desplazamiento de este punto en $x$ e $y$. Por lo tanto, aparecerán dos fuerzas de reacción, $R_{A,x}$ y $R_{A,y}$. Estas fuerzas aparecen como reacción en el apoyo al impedir el desplazamiento en $x$ e $y$.\n",
    "    \n",
    "- Apoyo B: Apoyo articulado móvil. Este tipo de apoyo permite el giro libre de la barra alrededor del punto B y además el desplazamiento de este punto en el eje $x$, pero no permite el desplazamiento en $y$. Por lo tanto, aparecerán una fuerza de reacción, $R_{B,y}$.\n",
    "\n",
    "Y entonces ya podemos dibujar el estado completo de cargas sobre la barra: solicitaciones, en verde, y reacciones, en rojo:\n",
    "\n",
    "<img src=\"reacc.png\" width=\"450\">\n"
   ]
  },
  {
   "cell_type": "markdown",
   "metadata": {},
   "source": [
    "**Inicialización**\n",
    "\n",
    "Lo primero que debemos hacer es cargar las librerías necesarias de Python. También definimos las variables que son \"dato\" del problema."
   ]
  },
  {
   "cell_type": "code",
   "execution_count": 1,
   "metadata": {},
   "outputs": [],
   "source": [
    "from sympy import *             # Librería para trabajo simbólico\n",
    "import math                     # Librería para utilizar símbolos matemáticos como el número pi, que se escribe como math.pi\n",
    "import numpy as np              # Librería para poder trabajar con matrices y vectores\n",
    "import matplotlib.pyplot as plt # Librería para poder dibujar gráficas\n",
    "\n",
    "x=symbols('x')\n",
    "\n",
    "L1=2.0 # m\n",
    "L2=2.3 # m\n",
    "T=1250.0 # Nm\n",
    "F=4000.0 # N\n",
    "q=3000.0 # N/m"
   ]
  },
  {
   "cell_type": "markdown",
   "metadata": {},
   "source": [
    "**Determinación de las reacciones: equilibrio estático**\n",
    "\n",
    "El siguiente paso es calcular las reacciones. La primera pregunta que debemos hacernos es: ¿es posible calcular las reacciones? (¿tenemos suficientes ecuaciones para hacerlo?). Como en 2D disponemos de 3 ecuaciones de equilibrio estático ($\\sum F_x=0$, $\\sum F_y=0$ y $\\sum M_z=0$), y en este problema existen 3 reacciones (incógnitas), sí que es posible calcularlas. Por lo tanto, este problema será *isostático*. Si por el contrario existieran más de 3 reacciones, el problema sería *hiperestático* (en 2D).\n",
    "\n",
    "<img src=\"equivs.png\" width=\"450\">\n",
    "\n",
    "Para hallar el valor de las reacciones, aplicaremos las ecuaciones de equilibrio estático. Para el sumatorio de momentos, tomaremos el punto A como origen de momentos. Las ecuaciones de equilibrio son:\n",
    "\n",
    "$$\\sum F_x=0 \\quad\\Rightarrow \\quad R_{A,x}=0$$\n",
    "\n",
    "$$\\sum F_y=0 \\quad\\Rightarrow \\quad R_{A,y}-F-F_{eq} + R_{B,y}=0$$\n",
    "\n",
    "$$\\sum M_z=0 \\quad\\Rightarrow \\quad T - F (L_1+L_2)- F_{eq}x_{eq} + R_{B,y}(3L_1+L_2)=0$$\n",
    "\n",
    "Donde el valor de la  fuerza equivalente $F_{eq}$ será:\n",
    "\n",
    "$$F_{eq}=\\int_{2L_1+L_2}^{3L_1+L_2}q dx$$"
   ]
  },
  {
   "cell_type": "code",
   "execution_count": 2,
   "metadata": {},
   "outputs": [
    {
     "name": "stdout",
     "output_type": "stream",
     "text": [
      "Feq= 6000.00000000000 N\n"
     ]
    }
   ],
   "source": [
    "Feq=integrate(q, (x, 2*L1+L2, 3*L1+L2))\n",
    "print(\"Feq=\", Feq,\"N\")"
   ]
  },
  {
   "cell_type": "markdown",
   "metadata": {},
   "source": [
    "y $x_{eq}$ es:\n",
    "\n",
    "$$x_{eq} = \\frac{\\displaystyle{\\int_{2L_1+L_2}^{3L_1+L_2}x q dx} }{\\displaystyle{\\int_{2L_1+L_2}^{3L_1+L_2}q dx}}$$"
   ]
  },
  {
   "cell_type": "code",
   "execution_count": 3,
   "metadata": {},
   "outputs": [
    {
     "name": "stdout",
     "output_type": "stream",
     "text": [
      "xeq= 7.30000000000000 m\n"
     ]
    }
   ],
   "source": [
    "xeq=integrate(x*q, (x, 2*L1+L2, 3*L1+L2))/integrate(q, (x, 2*L1+L2, 3*L1+L2))\n",
    "print(\"xeq=\", xeq,\"m\")"
   ]
  },
  {
   "cell_type": "markdown",
   "metadata": {},
   "source": [
    "Para calcular las reacciones aplicaremos las ecuaciones de equilibrio estático global. Formularemos un sistema de 3 ecuaciones $ΣFx=0$, $ΣFy=0$ y $ΣMz=0 $ con 3 incógnitas, $R_{A,x}$, $R_{A,y}$ y $R_{B,y}$ y lo resolveremos utilizando la función *linsolve*."
   ]
  },
  {
   "cell_type": "code",
   "execution_count": 4,
   "metadata": {},
   "outputs": [
    {
     "name": "stdout",
     "output_type": "stream",
     "text": [
      "Las reacciones en A y B son:\n",
      "Rax= 0 N\n",
      "Ray= 2801.20481927711 N\n",
      "Rby= 7198.79518072289 N\n"
     ]
    }
   ],
   "source": [
    "Rax,Ray,Rby=symbols('Rax Ray Rby') #variables simbólicas: reacciones en apoyos\n",
    "#-------------------------------------#\n",
    "#          Equilibrio global\n",
    "#-------------------------------------#\n",
    "#Se utiliza la funcion \"linsolve\" que resuelve un sistema de ecuaciones.\n",
    "#Añadir las ecuaciones ΣFx=0, ΣFy=0 y ΣMz=0 en la primera, segunda y tercera linea. \n",
    "#Nota: Todas las reacciones y solicitaciones se consideran positivos en dirección positiva de los ejes cartesianos.\n",
    "sol,=linsolve([ \n",
    "                 Rax,  #Es la eq.: ΣFx=0  ->  Rax=0\n",
    "                 Ray - F - Feq + Rby,\n",
    "                 T - F*(L1+L2) - Feq*xeq + Rby*(3*L1+L2)\n",
    "             ], \n",
    "                (Rax,Ray,Rby)  #Es la lista de incógnitas a resolver\n",
    "            ) \n",
    "\n",
    "Rax=sol[0]\n",
    "Ray=sol[1]\n",
    "Rby=sol[2]\n",
    "\n",
    "\n",
    "print(\"Las reacciones en A y B son:\")\n",
    "print(\"Rax=\", sol[0] , \"N\")\n",
    "print(\"Ray=\", sol[1] , \"N\")\n",
    "print(\"Rby=\", sol[2], \"N\")"
   ]
  },
  {
   "cell_type": "markdown",
   "metadata": {},
   "source": [
    "**Determinación de esfuerzos internos: aplicación del método de las secciones (equilibrio elástico)**\n",
    "\n",
    "Para determinar los esfuerzos dentro de la barra (el denominado torsor de esfuerzos), en particular el esfuerzo cortante, el esfuerzo normal y el momento flector, es necesario aplicar el método de las secciones. Habrá que cortar la barra por los puntos de interés y aplicar a una de las dos mitades las ecuaciones de equilibrio elástico.\n",
    "\n",
    "Empezaremos por el nudo A y seguiremos con los nudos C, D y E."
   ]
  },
  {
   "cell_type": "markdown",
   "metadata": {},
   "source": [
    "**Tramo 1: punto $x=1$**\n",
    "\n",
    "Para analizar los esfuerzos en el tramo 1, cortamos la barra por una sección arbitraria localizada a lo largo del tramo 1 ($0<x<L_1$) como se muestra en la figura. \n",
    "\n",
    "<img src=\"corte1.png\" width=\"500\">\n",
    "\n",
    "Para todo el tramo 1 ($0<x<L_1$), tendremos las mismas expresiones de los esfuerzos, ya que a lo largo de este tramo no hay fuerzas y momentos externos.\n",
    "\n",
    "El siguiente paso es representar el diagrama de esfuerzos para una de las dos mitades que separa el plano de corte. En este caso nos quedaremos con la mitad izquierda (será más sencillo, ya que sólo hay 2 reacciones, mientras que en el lado derecho hay muchas más fuerzas y momentos). Este diagrama se representa en la siguiente figura:\n",
    "\n",
    "<img src=\"elas1.png\" width=\"160\">\n",
    "\n",
    "Ahora, para hallar $N_x$, $V_y$ y $M_z$ se utilizarán las ecuaciones de equilibrio elástico: $\\sum F_{x,exteriores} + \\sum F_{x,interiores}=0$, $\\sum F_{y,exteriores} + \\sum F_{y,interiores}=0$ y $\\sum M_{z,exteriores} + \\sum M_{z,interiores}=0$, donde las fuerzas y momentos interiores ($N_x$, $V_y$ y $M_z$) serán las incógnitas y las exteriores (solicitaciones y reacciones) serán conocidas. El equilibrio de momentos se puede realizar respecto al origen (A) o a la sección de corte. En este caso lo haremos respecto a la sección de corte. Las ecuaciones de equilibrio elástico son:\n",
    "\n",
    "$$\\sum F_x=0 \\quad\\Rightarrow \\quad R_{A,x}+N_x=0$$\n",
    "\n",
    "$$\\sum F_y=0 \\quad\\Rightarrow \\quad R_{A,y}+V_y=0$$\n",
    "\n",
    "$$\\sum M_z =0 \\quad\\Rightarrow \\quad M_z-R_{A,y} x =0$$\n"
   ]
  },
  {
   "cell_type": "code",
   "execution_count": 5,
   "metadata": {},
   "outputs": [
    {
     "name": "stdout",
     "output_type": "stream",
     "text": [
      "Los esfuerzos en la sección son:\n",
      "Nx= 0 N\n",
      "Vy= -2801.20481927711 N\n",
      "Mz= 2801.20481927711 Nm\n"
     ]
    }
   ],
   "source": [
    "Nx,Vy,Mz=symbols('Nx Vy Mz') #variables simbólicas: torsor esfuerzos\n",
    "xp=1.0 #sección corte\n",
    "\n",
    "sol,=linsolve([ \n",
    "                 Rax + Nx,  \n",
    "                 Ray + Vy,\n",
    "                 Mz - Ray*xp\n",
    "             ], \n",
    "                (Nx,Vy,Mz)  #Es la lista de incógnitas a resolver\n",
    "            ) \n",
    "\n",
    "print(\"Los esfuerzos en la sección son:\")\n",
    "print(\"Nx=\", sol[0] , \"N\")\n",
    "print(\"Vy=\", sol[1], \"N\")\n",
    "print(\"Mz=\", sol[2] , \"Nm\")"
   ]
  },
  {
   "cell_type": "markdown",
   "metadata": {},
   "source": [
    "**Tramo 2: punto $x=4$**\n",
    "\n",
    "Como en el caso anterior, para hallar los esfuerzos  $N_x$, $V_y$ y $M_z$ en el tramo 2 haremos un corte arbitrariamente en este tramo, entre $x=2$ y $x=4.3$ m. La localización de la sección de corte se muestra en la figura inferior, observándose que las distancias desde el origen hasta dicha sección vienen dadas por $x$.\n",
    "\n",
    "<img src=\"corte2.png\" width=\"500\">\n",
    "\n",
    "Se aplicará el equilibrio elástico a la mitad izquierda como se muestra en la figura siguiente. En esta figura se han representado los esfuerzos internos (torsor de esfuerzos) en la sección, los cuales debemos calcular.\n",
    "\n",
    "<img src=\"elas2.png\" width=\"250\">\n",
    "\n",
    "Como ejemplo alternativo al del tramo anterior, en este caso el equilibrio de momentos se realizará *respecto a la sección de corte*, aunque también podríamos hacerlo respecto del origen. Las ecuaciones de equilibrio elástico son:\n",
    "\n",
    "\n",
    "$$  \\sum F_x=0 \\quad\\Rightarrow \\quad R_{A,x}+N_x=0$$\n",
    "\n",
    "$$ \\sum F_y=0 \\quad\\Rightarrow \\quad R_{A,y}+V_y=0$$\n",
    "\n",
    "$$ \\sum M_z =0 \\quad\\Rightarrow \\quad -R_{A,y} x  + T + M_z=0$$"
   ]
  },
  {
   "cell_type": "code",
   "execution_count": 6,
   "metadata": {},
   "outputs": [
    {
     "name": "stdout",
     "output_type": "stream",
     "text": [
      "Los esfuerzos en la sección son:\n",
      "Nx= 0 N\n",
      "Vy= -2801.20481927711 N\n",
      "Mz= 9954.81927710844 Nm\n"
     ]
    }
   ],
   "source": [
    "Nx,Vy,Mz=symbols('Nx Vy Mz') #variables simbólicas: torsor esfuerzos\n",
    "xp=4.0 #sección corte\n",
    "\n",
    "sol,=linsolve([ \n",
    "                 Rax + Nx,  \n",
    "                 Ray + Vy,\n",
    "                 -Ray*xp + T + Mz\n",
    "             ], \n",
    "                (Nx,Vy,Mz)  #Es la lista de incógnitas a resolver\n",
    "            ) \n",
    "\n",
    "print(\"Los esfuerzos en la sección son:\")\n",
    "print(\"Nx=\", sol[0] , \"N\")\n",
    "print(\"Vy=\", sol[1], \"N\")\n",
    "print(\"Mz=\", sol[2] , \"Nm\")"
   ]
  },
  {
   "cell_type": "markdown",
   "metadata": {},
   "source": [
    "**Tramo 3: punto $x=6$**\n",
    "\n",
    "Se deja como ejercicio.\n"
   ]
  },
  {
   "cell_type": "markdown",
   "metadata": {},
   "source": [
    "**Tramo 4: punto $x=7$**\n",
    "\n",
    "Como en el caso anterior, para hallar los esfuerzos  $N_x$, $V_y$ y $M_z$ en el tramo 4 haremos un corte arbitrariamente en este tramo, entre $x=6.3$ y $x=8.3$ m. La localización de la sección de corte se muestra en la figura inferior, observándose que las distancias desde el origen hasta dicha sección vienen dadas por $x$.\n",
    "\n",
    "<img src=\"corte4.png\" width=\"500\">\n",
    "\n",
    "Se aplicará el equilibrio elástico a la mitad izquierda como se muestra en la figura siguiente. En esta figura se han representado los esfuerzos internos (torsor de esfuerzos) en la sección, los cuales debemos calcular.\n",
    "\n",
    "<img src=\"elas4.png\" width=\"500\">\n",
    "\n",
    "El equilibrio de momentos se realizará respecto al origen (punto A). Las ecuaciones de equilibrio elástico son:\n",
    "\n",
    "$$ \\sum F_x=0 \\quad\\Rightarrow \\quad R_{A,x}+N_x=0$$\n",
    "\n",
    "$$ \\sum F_y=0 \\quad\\Rightarrow \\quad R_{A,y}+V_y-F-F_{eq,s} =0$$\n",
    "\n",
    "$$ \\sum M_z =0 \\quad\\Rightarrow \\quad    T - F(L_1+L_2) - F_{eq,s}x_{eq,s} + V_y x + M_z =0$$\n",
    "\n",
    "**¡¡¡Atención, error frecuente!!!:** $F_{eq,s}$ y $x_{eq,s}$ son la fuerza equivalente y el punto de aplicación de ésta considerando la distribución de carga $q$ **solamente hasta la sección de corte**, es decir, hasta $x_p$, **y no en todo el tramo 4**. El valor de la  fuerza equivalente $F_{eq,s}$ será:\n",
    "\n",
    "$$F_{eq,s}=\\int_{2L_1+L_2}^{x_p}q dx$$"
   ]
  },
  {
   "cell_type": "code",
   "execution_count": 7,
   "metadata": {},
   "outputs": [
    {
     "name": "stdout",
     "output_type": "stream",
     "text": [
      "Feq= 2100.00000000000 N\n"
     ]
    }
   ],
   "source": [
    "xp=7.0 #definimos ya la sección corte\n",
    "\n",
    "Feq=integrate(q, (x, 2*L1+L2, xp))\n",
    "print(\"Feq=\", Feq,\"N\")"
   ]
  },
  {
   "cell_type": "markdown",
   "metadata": {},
   "source": [
    "y $x_{eq,s}$ es:\n",
    "\n",
    "$$x_{eq,s} = \\frac{\\displaystyle{\\int_{2L_1+L_2}^{x_p}x q dx} }{\\displaystyle{\\int_{2L_1+L_2}^{x_p}q dx}}$$"
   ]
  },
  {
   "cell_type": "code",
   "execution_count": 8,
   "metadata": {},
   "outputs": [
    {
     "name": "stdout",
     "output_type": "stream",
     "text": [
      "xeq= 6.65000000000000 m\n"
     ]
    }
   ],
   "source": [
    "xeq=integrate(x*q, (x, 2*L1+L2, xp))/integrate(q, (x, 2*L1+L2, xp))\n",
    "print(\"xeq=\", xeq,\"m\")"
   ]
  },
  {
   "cell_type": "code",
   "execution_count": 9,
   "metadata": {},
   "outputs": [
    {
     "name": "stdout",
     "output_type": "stream",
     "text": [
      "Los esfuerzos en la sección son:\n",
      "Nx= 0 N\n",
      "Vy= 3298.79518072289 N\n",
      "Mz= 6823.43373493977 Nm\n"
     ]
    }
   ],
   "source": [
    "Nx,Vy,Mz=symbols('Nx Vy Mz') #variables simbólicas: torsor esfuerzos\n",
    "\n",
    "sol,=linsolve([ \n",
    "                 Rax + Nx,  \n",
    "                 Ray + Vy - F -Feq,\n",
    "                 T - F*(L1+L2) - Feq*xeq + Vy*xp + Mz\n",
    "             ], \n",
    "                (Nx,Vy,Mz)  #Es la lista de incógnitas a resolver\n",
    "            ) \n",
    "\n",
    "print(\"Los esfuerzos en la sección son:\")\n",
    "print(\"Nx=\", sol[0] , \"N\")\n",
    "print(\"Vy=\", sol[1] , \"N\")\n",
    "print(\"Mz=\", sol[2] , \"Nm\")"
   ]
  }
 ],
 "metadata": {
  "kernelspec": {
   "display_name": "Python 3",
   "language": "python",
   "name": "python3"
  },
  "language_info": {
   "codemirror_mode": {
    "name": "ipython",
    "version": 3
   },
   "file_extension": ".py",
   "mimetype": "text/x-python",
   "name": "python",
   "nbconvert_exporter": "python",
   "pygments_lexer": "ipython3",
   "version": "3.7.4"
  }
 },
 "nbformat": 4,
 "nbformat_minor": 2
}
