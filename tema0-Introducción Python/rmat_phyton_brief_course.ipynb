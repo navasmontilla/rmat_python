{
 "cells": [
  {
   "cell_type": "markdown",
   "metadata": {},
   "source": [
    " RMAT: Introducción al lenguaje python mediante jupyter\n",
    " ---\n",
    "0. [Trucos y recomendaciones](#trucos)\n",
    "1. [Variables](#variables)\n",
    "2. [Operadores](#operadores)   \n",
    "3. [Cadenas de caracteres](#cadenacaracteres)\n",
    "4. [Control del flujo](#flujo)\n",
    "5. [Tipos de datos Phyton](#tipos)\n",
    "6. [Funciones](#funciones)\n",
    "7. [Bibliotecas](#bibliotecas)\n",
    "    1. [Trabajar con vectores y matrices: numpy](#numpy)\n",
    "    2. [Representación gráfica: matplotlib](#matplotlib)    "
   ]
  },
  {
   "cell_type": "markdown",
   "metadata": {},
   "source": [
    "# TRUCOS <a name=\"trucos\"></a>\n",
    "\n",
    "- En ocasiones (bastantes) jupyter deja de funcionar bien. Entonces ir a Kernel y seguir la secuencia:Restart,Reconnect y Shutdown. Si el problema se resuelve con Restart parar. Sino pasar a Reconnect etc.\n",
    "\n",
    "\n",
    "- Para trabajar con jupyter en una carpeta dada:\n",
    "    - Abrir Anaconda Powershell (inicio-->Anaconda-->Anaconda Powershell)\n",
    "    - Escribir cd \"ruta completa de tu carpeta favorita\" \n",
    "    - Escribir jupyter notebook"
   ]
  },
  {
   "cell_type": "markdown",
   "metadata": {},
   "source": [
    "# Variables <a name=\"variables\"></a>"
   ]
  },
  {
   "cell_type": "code",
   "execution_count": 1,
   "metadata": {},
   "outputs": [
    {
     "name": "stdout",
     "output_type": "stream",
     "text": [
      "42 3.1416 3.14 (3+7j) Ejemplo de cadena de caracteres \n",
      "<class 'int'>\n",
      "<class 'float'>\n",
      "<class 'complex'>\n",
      "<class 'str'>\n"
     ]
    }
   ],
   "source": [
    "a = 42        #entero\n",
    "b = 3.1416    #real\n",
    "bexp = 3.14e0 #exponencial\n",
    "c = 3+7j      #complejo\n",
    "d = \"Ejemplo de cadena de caracteres \" #Cadena de caracteres\n",
    "\n",
    "#Imprimir por pantalla\n",
    "print (a,b,bexp,c,d)\n",
    "\n",
    "#Tipos de variables\n",
    "print (type(a))\n",
    "print (type(b))\n",
    "print (type(c))\n",
    "print (type(d))"
   ]
  },
  {
   "cell_type": "markdown",
   "metadata": {},
   "source": [
    "# Operadores <a name=\"operadores\"></a>"
   ]
  },
  {
   "cell_type": "code",
   "execution_count": 2,
   "metadata": {},
   "outputs": [
    {
     "name": "stdout",
     "output_type": "stream",
     "text": [
      "a= 3.0 b= 2.0\n",
      "a+b= 5.0\n",
      "a-b= 1.0\n",
      "a*b= 6.0\n",
      "a/b= 1.5\n",
      "División entera a/b= 1.0\n",
      "a^b= 9.0\n"
     ]
    }
   ],
   "source": [
    "a,b=3.0,2.0\n",
    "\n",
    "suma=a+b\n",
    "resta=a-b\n",
    "multip=a*b\n",
    "div=a/b\n",
    "div_entera=a//b\n",
    "exp=a**b\n",
    "\n",
    "print('a=',a,'b=',b)\n",
    "print(\"a+b=\",suma)\n",
    "print(\"a-b=\",resta)\n",
    "print(\"a*b=\",multip)\n",
    "print(\"a/b=\",div)\n",
    "print(\"División entera a/b=\",div_entera)\n",
    "print(\"a^b=\",exp)\n"
   ]
  },
  {
   "cell_type": "markdown",
   "metadata": {},
   "source": [
    "#  Cadena de caracteres <a name=\"cadenacaracteres\"></a>\n"
   ]
  },
  {
   "cell_type": "code",
   "execution_count": 3,
   "metadata": {},
   "outputs": [
    {
     "name": "stdout",
     "output_type": "stream",
     "text": [
      "Hola\n",
      " \t Este es un ejemplo de cadena de caracteres \n",
      "         Es posible escribir saltos de linea sin necesidad de utilizar los códigos \n",
      "de escape\n",
      "Hola\n",
      "\t Este es un ejemplo de cadena de caracteres \n",
      "  repite  repite  repite   repite  repite  repite \n"
     ]
    }
   ],
   "source": [
    "a= \"Hola\\n\"\n",
    "b = \"\\t Este es un ejemplo de cadena de caracteres \\n\"\n",
    "c = \"\"\"        Es posible escribir saltos de linea sin necesidad de utilizar los códigos \n",
    "de escape\"\"\"\n",
    "\n",
    "print(a,b,c)\n",
    "\n",
    "d= a + b #concatenación\n",
    "e = \" repite \"\n",
    "f = 3*e #repetición\n",
    "g = e*3 #equivale a lo anterior\n",
    "\n",
    "print(d,f,g)"
   ]
  },
  {
   "cell_type": "markdown",
   "metadata": {},
   "source": [
    "# Control de flujo <a name=\"flujo\"></a>\n",
    "\n",
    "* Sentencias condicionales: if-elif-else\n",
    "* Secuencias iterativas: bucles\n",
    "  - Bucles for...in\n",
    "  - Bucles while\n",
    "\n"
   ]
  },
  {
   "cell_type": "code",
   "execution_count": 4,
   "metadata": {},
   "outputs": [
    {
     "name": "stdout",
     "output_type": "stream",
     "text": [
      "Ejemplo 1: usos del if\n",
      "-27.0  es un número negativo.\n",
      "\n",
      " Ejemplo 2: usos del if\n",
      "Tipo de variable= <class 'float'>\n",
      "37.0  es un número real\n"
     ]
    }
   ],
   "source": [
    "# Usos del if\n",
    "'''\n",
    "Ejemplo: ¿contiene la variable un número negativo?\n",
    "'''\n",
    "print(\"Ejemplo 1: usos del if\")\n",
    "a=-27.0\n",
    "if(a<0.0): #Los paréntesis no son necesarios\n",
    "    print(a,\" es un número negativo.\")\n",
    "elif (a==0):\n",
    "    print(a,\" es cero.\")\n",
    "else:\n",
    "    print(a,\" es un número positivo.\")\n",
    "\n",
    "'''\n",
    "Ejemplo: utilizando la función isintance() nos preguntamos si la variable\n",
    "a contiene un número real\n",
    "'''\n",
    "print(\"\\n Ejemplo 2: usos del if\")\n",
    "a=37.0\n",
    "print(\"Tipo de variable=\",type(a))\n",
    "if(isinstance(a,float)):\n",
    "    print(a,\" es un número real\")\n",
    "else:\n",
    "    print(a,\" no es un número real\")"
   ]
  },
  {
   "cell_type": "code",
   "execution_count": 5,
   "metadata": {},
   "outputs": [
    {
     "name": "stdout",
     "output_type": "stream",
     "text": [
      "Ejemplo 1: bucle for\n",
      "De los siguientes números  [-5, -4, -3, -2, -1, 0, 1, 2, 3, 4] comprobamos cuáles son negativos\n",
      "-5  es un número negativo.\n",
      "-4  es un número negativo.\n",
      "-3  es un número negativo.\n",
      "-2  es un número negativo.\n",
      "-1  es un número negativo.\n",
      "\n",
      " Ejemplo 2: bucle for\n",
      "-5  es un número negativo.\n",
      "-4  es un número negativo.\n",
      "-3  es un número negativo.\n",
      "-2  es un número negativo.\n",
      "-1  es un número negativo.\n",
      "\n",
      " Ejemplo 3: bucle for\n",
      "manzana\n",
      "pera\n",
      "gato\n"
     ]
    }
   ],
   "source": [
    "#Bucle for\n",
    "'''\n",
    "Ejemplo: utilizando el método range proporciona una lista de números,\n",
    "comprobamos si un número es postivo o negativo\n",
    "'''\n",
    "print(\"Ejemplo 1: bucle for\")\n",
    "\n",
    "rango=list(range(-5,5)) # Más adelante entenderemos qué hace el método list\n",
    "\n",
    "print(\"De los siguientes números \",rango,\"comprobamos cuáles son negativos\")\n",
    "for a in range(-5,5):\n",
    "   if(a<0.0): #Los paréntesis no son necesarios\n",
    "    print(a,\" es un número negativo.\")   \n",
    "\n",
    "'''\n",
    "Ejemplo: una forma compacta de escribir el mismo loop..\n",
    "'''   \n",
    "print(\"\\n Ejemplo 2: bucle for\")\n",
    " \n",
    "[print(a,\" es un número negativo.\") for a in range(-5,5) if(a < 0.0)]\n",
    "\n",
    "'''\n",
    "Ejemplo: Python permite bucles en cualquier objeto que sea iterable\n",
    "'''   \n",
    "print(\"\\n Ejemplo 3: bucle for\")\n",
    "\n",
    "lista = [\"manzana\",\"pera\",\"gato\"] #Más adelante veremos qué tipo de dato representa lista\n",
    "\n",
    "for palabra in lista:\n",
    "    print(palabra)\n"
   ]
  },
  {
   "cell_type": "code",
   "execution_count": 6,
   "metadata": {},
   "outputs": [
    {
     "name": "stdout",
     "output_type": "stream",
     "text": [
      "Ejemplo 1: bucle for\n",
      "2\n",
      "4\n",
      "6\n",
      "8\n",
      "10\n",
      "12\n",
      "14\n",
      "16\n",
      "18\n",
      "20\n"
     ]
    }
   ],
   "source": [
    "# Bucle while\n",
    "'''\n",
    "Ejemplo: Se representan los números pares empezando por 2 hasta llegar al número 20 (incluido).\n",
    "OJO: los bucles while producen fácilmente bucles infinitos. En el ejemplo ocuure si se elimina \n",
    "la condición de parar cuando el número llega a 20.\n",
    "'''\n",
    "print(\"Ejemplo 1: bucle for\")\n",
    "\n",
    "nopar= 2\n",
    "\n",
    "while (nopar > 0):\n",
    "    print (nopar)\n",
    "    nopar = nopar + 2\n",
    "    if (nopar > 20):\n",
    "        break"
   ]
  },
  {
   "cell_type": "markdown",
   "metadata": {},
   "source": [
    "# Algunos tipos de datos en Python <a name=\"tipos\"></a>\n",
    "* Tuplas\n",
    "* Listas\n",
    "\n",
    "Información adicional sobre otros tipos de datos: \n",
    "https://docs.python.org/3/tutorial/datastructures.html"
   ]
  },
  {
   "cell_type": "code",
   "execution_count": 7,
   "metadata": {},
   "outputs": [
    {
     "name": "stdout",
     "output_type": "stream",
     "text": [
      "Tuplas\n",
      "(1, 2, 3, 4, 6)\n",
      "(1, 2)\n",
      "(1, 2, 3, 4, 6)\n",
      "('hola', 2, 3)\n",
      "(('hola', 2, 3), 90)\n",
      "('e', 'j', 'e', 'm', 'p', 'l', 'o')\n"
     ]
    }
   ],
   "source": [
    "# Tuplas\n",
    "'''\n",
    "Un tupla es una secuencia inmutable y ordenada de elementos. Pueden ser de \n",
    "de cualquier tipo (básico o no). Se pueden indexar.\n",
    "Sintaxis para declarar una tupla: especificar los elementos separados por una coma (,)\n",
    "'''\n",
    "tupla_vacia = ( )\n",
    "tupla1 = 1 ,2 ,3 ,4 ,6 ,\n",
    "tupla1b = (1 , 2 , 3 , 4 , 6)\n",
    "tupla2 = \"hola\" , 2 ,3\n",
    "tupla3 = tupla2 , 90\n",
    "tupla4 = tuple (\"ejemplo\")\n",
    "\n",
    "print(\"Tuplas\")\n",
    "print(tupla1)\n",
    "print(tupla1[0:2])\n",
    "print(tupla1b)\n",
    "print(tupla2)\n",
    "print(tupla3)\n",
    "print(tupla4)"
   ]
  },
  {
   "cell_type": "code",
   "execution_count": 8,
   "metadata": {},
   "outputs": [
    {
     "name": "stdout",
     "output_type": "stream",
     "text": [
      "Listas\n",
      "[1, 2, 3, 4, 6]\n",
      "[1, 2]\n",
      "lista2= ['hola', 2, 3]\n",
      "['hola', 2, 3, 90]\n",
      "['e', 'j', 'e', 'm', 'p', 'l', 'o']\n"
     ]
    }
   ],
   "source": [
    "# Listas\n",
    "'''\n",
    "Una lista es una secuencia mutable y ordenada de elementos. Sus elementos \n",
    "se pueden modificar a diferencia de las tuplas. Se pueden indexar.\n",
    "Sintaxis para declarar una lisat: los elementos de la lista se seprar usando comas.\n",
    "Se especifica que es una lista cerrando el conjunto entre corchetes [,].\n",
    "'''\n",
    "lista_vacia = []\n",
    "lista1 = [1 ,2 ,3 ,4 ,6]\n",
    "lista2 = [\"hola\" , 2 ,3]\n",
    "lista3 = lista2+[90]\n",
    "lista4 = list(\"ejemplo\")\n",
    "print(\"Listas\")\n",
    "print(lista1)\n",
    "print(lista1[0:2])\n",
    "print(\"lista2=\",lista2)\n",
    "print(lista3)\n",
    "print(lista4)"
   ]
  },
  {
   "cell_type": "markdown",
   "metadata": {},
   "source": [
    "# Funciones <a name=\"funciones\"></a>"
   ]
  },
  {
   "cell_type": "code",
   "execution_count": 9,
   "metadata": {},
   "outputs": [
    {
     "name": "stdout",
     "output_type": "stream",
     "text": [
      "Ejemplo 1: funciones\n",
      "De los siguientes números  [-5, -4, -3, -2, -1, 0, 1, 2, 3, 4] comprobamos cuáles son negativos\n",
      "-5  es un número negativo.\n",
      "-4  es un número negativo.\n",
      "-3  es un número negativo.\n",
      "-2  es un número negativo.\n",
      "-1  es un número negativo.\n",
      "\n",
      " Ejemplo 2: funciones\n",
      "Polinomio de grado n=2\n",
      " y coeficientes [$a_0,a_{1},..,a_{n-1},a_n$]=[1.0, 1.0, 1.0], en x=2.0 tiene un valor igual a =7.0\n",
      "\n",
      " Ejemplo 3: funciones\n",
      "Para la condición inicial (y0,v0)=( 100.0 m, 50.0 m/s)\n",
      "La velocidad para un cuerpo en caída libre en t= 5 (s), será de 227.375 m/s\n"
     ]
    }
   ],
   "source": [
    "# Funciones\n",
    "'''\n",
    "Ejemplo: encapsulamos parte del código de los ejemplos previos en una función\n",
    "'''\n",
    "print(\"Ejemplo 1: funciones\")\n",
    "\n",
    "def isnegative(x):\n",
    "    if(a<0.0): #Los paréntesis no son necesarios\n",
    "       print(a,\" es un número negativo.\")  \n",
    "\n",
    "rango=list(range(-5,5)) # Más adelante entenderemos qué hace el método list\n",
    "\n",
    "print(\"De los siguientes números \",rango,\"comprobamos cuáles son negativos\")\n",
    "for a in range(-5,5):\n",
    "   isnegative(a)\n",
    "\n",
    "\n",
    "'''\n",
    "Ejemplo: cálculo de un polinomio de grado n\n",
    "'''\n",
    "print(\"\\n Ejemplo 2: funciones\")\n",
    "\n",
    "def polynomial(x,a):    \n",
    "    result=0\n",
    "    n=len(a)-1    \n",
    "    i=0\n",
    "    for factor in a:\n",
    "         result=result+factor*x**i\n",
    "         i=i+1\n",
    "    return result\n",
    "\n",
    "a=[1.0,1.0,1.0] # a_0*x**(0)+a_1*x**(1)+...a_n*x**n, donde n=len(a)\n",
    "x=2.0\n",
    "pol_x=polynomial(x,a)\n",
    "txt=\"Polinomio de grado n=\"+str(len(a)-1)+\"\\n y coeficientes [$a_0,a_{1},..,a_{n-1},a_n$]=\"+str(a)\n",
    "txt=txt+\", en x=\"+str(x)+\" tiene un valor igual a =\"+str(pol_x)\n",
    "print(txt)\n",
    "\n",
    "'''\n",
    "Ejemplo: cuerpo caída libre\n",
    "'''\n",
    "print(\"\\n Ejemplo 3: funciones\")\n",
    "def y_t(t,y0,v0):\n",
    "    g=9.81        \n",
    "    return y0+v0*t-0.5*g*t**2     \n",
    "y0=100.0 #m\n",
    "v0= 50.0 #m/s\n",
    "t = 5 #s\n",
    "print(\"Para la condición inicial (y0,v0)=(\",y0,\"m,\",v0,\"m/s)\")\n",
    "print(\"La velocidad para un cuerpo en caída libre en t=\",t,'(s), será de',y_t(t,y0,v0),\n",
    "      'm/s')"
   ]
  },
  {
   "cell_type": "markdown",
   "metadata": {},
   "source": [
    "# Bibliotecas <a name=\"bibliotecas\"></a>\n"
   ]
  },
  {
   "cell_type": "markdown",
   "metadata": {},
   "source": [
    "\n",
    "## Numpy <a name=\"numpy\"></a>\n",
    "\n",
    "https://numpy.org/doc/stable/user/whatisnumpy.html"
   ]
  },
  {
   "cell_type": "code",
   "execution_count": 10,
   "metadata": {},
   "outputs": [
    {
     "name": "stdout",
     "output_type": "stream",
     "text": [
      "\n",
      " Ejemplo 1: Ejemplos básicos\n",
      "Dimensión= 2 Shape= (3, 4) Tipo= int32\n",
      "[[1 2 3 4]\n",
      " [1 2 3 4]\n",
      " [1 2 3 4]]\n",
      "[[0. 0. 0. 0.]\n",
      " [0. 0. 0. 0.]\n",
      " [0. 0. 0. 0.]]\n",
      "[[1. 0. 0.]\n",
      " [0. 1. 0.]\n",
      " [0. 0. 1.]]\n",
      "\n",
      " Ejemplo 2: operaciones con vectores de tipo element-wise \n",
      "[ 0.          1.05263158  2.10526316  3.15789474  4.21052632  5.26315789\n",
      "  6.31578947  7.36842105  8.42105263  9.47368421 10.52631579 11.57894737\n",
      " 12.63157895 13.68421053 14.73684211 15.78947368 16.84210526 17.89473684\n",
      " 18.94736842 20.        ]\n",
      "[  100.            99.82825485    88.7867036     66.87534626\n",
      "    34.09418283    -9.5567867    -64.07756233  -129.46814404\n",
      "  -205.72853186  -292.85872576  -390.85872576  -499.72853186\n",
      "  -619.46814404  -750.07756233  -891.5567867  -1043.90581717\n",
      " -1207.12465374 -1381.2132964  -1566.17174515 -1762.        ]\n"
     ]
    }
   ],
   "source": [
    "import numpy as np # numpy es la biblioteca con la que crear y operar con vectores/matrices y en general \"tensores\"\n",
    "\n",
    "'''\n",
    "Ejemplos básicos\n",
    "'''\n",
    "print(\"\\n Ejemplo 1: Ejemplos básicos\")\n",
    "x=np.array([[1,2,3,4],[1,2,3,4],[1,2,3,4]])\n",
    "print(\"Dimensión=\",x.ndim,\"Shape=\",x.shape,\"Tipo=\",x.dtype)\n",
    "print(x)\n",
    "y=np.zeros(x.shape) # Crear una matriz con las mismas características que otra y rellenarla de ceros\n",
    "print(y)\n",
    "z=np.identity(3) # Crea una matriz identidad nxn. En el ejemplo n=3\n",
    "print(z)\n",
    "\n",
    "'''\n",
    "Ejemplos : operaciones con vectores de tipo element-wise \n",
    "'''\n",
    "print(\"\\n Ejemplo 2: operaciones con vectores de tipo element-wise \")\n",
    "tmin,tmax= 0.0,20.0 #s\n",
    "nopto=20\n",
    "t=np.linspace(tmin,tmax,nopto) #Se define un vector de dimensión (nopto,), con valores en el intervalo [tmin,tmax]\n",
    "y=np.array(t) # copia el vector, matriz, en general tensor t.\n",
    "\n",
    "def y_t(t,y0,v0):\n",
    "    g=9.81        \n",
    "    return y0+v0*t-0.5*g*t**2  \n",
    "\n",
    "y0=100.0 #m\n",
    "v0= 5.0 #m/s\n",
    "\n",
    "'''\n",
    "Python permite cálculos \"element-wise\": un cálculo elemento a elemento de un vector. \n",
    "No hay problema en sustituir en un función lo que \n",
    "en principio son escalares (el tiempo t), por un vector/matriz/.... De la misma forma,\n",
    "el resultado de la función que en principio es un escalar, puede devolver un vector/matriz/...\n",
    "'''\n",
    "y=y_t(t,y0,v0) \n",
    "print(t)\n",
    "print(y)"
   ]
  },
  {
   "cell_type": "markdown",
   "metadata": {},
   "source": [
    "## Matplotlib <a name=\"matplotlib\"></a>\n",
    "\n",
    "https://matplotlib.org/stable/index.html"
   ]
  },
  {
   "cell_type": "code",
   "execution_count": 11,
   "metadata": {},
   "outputs": [
    {
     "name": "stdout",
     "output_type": "stream",
     "text": [
      "\n",
      " Ejemplo 1: cuerpo en caída libre\n",
      "Para la condición inicial (y0,v0)=( 100.0 m, 5.0 m/s)\n"
     ]
    },
    {
     "name": "stderr",
     "output_type": "stream",
     "text": [
      "No handles with labels found to put in legend.\n"
     ]
    },
    {
     "data": {
      "image/png": "[encoded data removed]",
      "text/plain": [
       "<Figure size 360x360 with 1 Axes>"
      ]
     },
     "metadata": {
      "needs_background": "light"
     },
     "output_type": "display_data"
    },
    {
     "name": "stdout",
     "output_type": "stream",
     "text": [
      "\n",
      " Ejemplo 2: representación de un polinomio\n",
      "Polinomio de grado n=2 \n",
      "  y coeficientes [$a_0,a_{1},..,a_{n-1},a_n$]=[0.0, 1.0, -1.0]\n"
     ]
    },
    {
     "data": {
      "image/png": "[encoded data removed]",
      "text/plain": [
       "<Figure size 576x576 with 1 Axes>"
      ]
     },
     "metadata": {
      "needs_background": "light"
     },
     "output_type": "display_data"
    }
   ],
   "source": [
    "'''\n",
    "Ejemplo 1: representación gráfica de una función\n",
    "'''\n",
    "print(\"\\n Ejemplo 1: cuerpo en caída libre\")\n",
    "\n",
    "import numpy as np\n",
    "\n",
    "tmin,tmax= 0.0,10.0 #s\n",
    "nopto=100\n",
    "t=np.linspace(tmin,tmax,nopto) #Se define un vector de dimensión (nopto,), con valores en el intervalo [tmin,tmax]\n",
    "y=np.array(t) # copia el vector, matriz, en general tensor t.\n",
    "\n",
    "def y_t(t,y0,v0):\n",
    "    g=9.81        \n",
    "    return y0+v0*t-0.5*g*t**2  \n",
    "\n",
    "y0=100.0 #m\n",
    "v0= 5.0 #m/s\n",
    "y=y_t(t,y0,v0)\n",
    "\n",
    "print(\"Para la condición inicial (y0,v0)=(\",y0,\"m,\",v0,\"m/s)\")\n",
    "\n",
    "'''\n",
    "Elementos esenciales en una representación gráfica\n",
    "'''\n",
    "# Se llama a las bibliotecas necesarias\n",
    "import matplotlib.pyplot as plt\n",
    "import numpy as np\n",
    "\n",
    "fig,ax = plt.subplots(figsize=(5,5))\n",
    "ax.plot(t,y, color=\"blue\", linewidth=0,linestyle='--',marker=\".\",markersize=12)\n",
    "ax.set_ylabel(\"y(m)\")\n",
    "ax.set_xlabel(\"t(s)\")\n",
    "ax.legend()\n",
    "plt.show()\n",
    "\n",
    "'''\n",
    "Ejemplo 2: representación gráfica de una función\n",
    "'''\n",
    "print(\"\\n Ejemplo 2: representación de un polinomio\")\n",
    "\n",
    "def polynomial(x,a):    \n",
    "    result=0\n",
    "    n=len(a)-1    \n",
    "    i=0\n",
    "    for factor in a:\n",
    "         result=result+factor*x**i\n",
    "         i=i+1\n",
    "    return result\n",
    "\n",
    "# Se llama a las bibliotecas necesarias\n",
    "import matplotlib.pyplot as plt\n",
    "import numpy as np\n",
    "\n",
    "a=[0.0,1.0,-1.0] # a_0*x**(0)+a_1*x**(1)+...a_n*x**n, donde el grado del polinomio es n=len(a)-1\n",
    "txt=\"Polinomio de grado n=\"+str(len(a)-1)+\" \\n  y coeficientes [$a_0,a_{1},..,a_{n-1},a_n$]=\"+str(a)\n",
    "print(txt)\n",
    "xmin,xmax,nopto=-10.3,10.5,100\n",
    "'''\n",
    "Para cada valor asignado al vector x mediante el método np.linspace, \n",
    "la función polynomial calcula su valor volcándolo en el vector y. \n",
    "'''\n",
    "x=np.linspace(xmin,xmax,nopto) #Se define un vector de dimensión (nopto,), con valores en el intervalo [xmin,xmax]\n",
    "y1=polynomial(x,a)\n",
    "\n",
    "'''\n",
    "La forma equivalente utilizando el bucle for sería la siguiente (se parte de la definición previa de x)\n",
    "'''\n",
    "y2=np.array(x) #Crea un array idéntico a x\n",
    "for i in range(0,len(x)):\n",
    "    y2[i]=polynomial(x[i],a)\n",
    "'''\n",
    "Elementos esenciales en una representación gráfica\n",
    "'''\n",
    "fig,ax = plt.subplots(figsize=(8,8))\n",
    "ax.plot(x,y1, color=\"blue\", linewidth=0,linestyle='--',marker=\".\",markersize=12,label=txt)\n",
    "ax.plot(x,y2, color=\"red\", linewidth=3,linestyle='-')\n",
    "ax.set_title(\"$a_0+a_{1} x+...a_{n-1} x^{n-1}+a_n x^n$\")\n",
    "ax.set_ylabel(\"y\")\n",
    "ax.set_xlabel(\"x\")\n",
    "ax.legend()\n",
    "plt.show()"
   ]
  },
  {
   "cell_type": "code",
   "execution_count": null,
   "metadata": {},
   "outputs": [],
   "source": []
  }
 ],
 "metadata": {
  "kernelspec": {
   "display_name": "Python 3",
   "language": "python",
   "name": "python3"
  },
  "language_info": {
   "codemirror_mode": {
    "name": "ipython",
    "version": 3
   },
   "file_extension": ".py",
   "mimetype": "text/x-python",
   "name": "python",
   "nbconvert_exporter": "python",
   "pygments_lexer": "ipython3",
   "version": "3.7.6"
  }
 },
 "nbformat": 4,
 "nbformat_minor": 4
}
