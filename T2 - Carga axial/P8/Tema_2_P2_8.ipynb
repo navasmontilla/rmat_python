{
  "nbformat": 4,
  "nbformat_minor": 0,
  "metadata": {
    "colab": {
      "name": "Tema 2 P2_8.ipynb",
      "provenance": []
    },
    "kernelspec": {
      "display_name": "Python 3",
      "language": "python",
      "name": "python3"
    },
    "language_info": {
      "codemirror_mode": {
        "name": "ipython",
        "version": 3
      },
      "file_extension": ".py",
      "mimetype": "text/x-python",
      "name": "python",
      "nbconvert_exporter": "python",
      "pygments_lexer": "ipython3",
      "version": "3.7.4"
    }
  },
  "cells": [
    {
      "cell_type": "markdown",
      "metadata": {
        "id": "jSvfbIV9Dxle"
      },
      "source": [
        "P2.8"
      ]
    },
    {
      "cell_type": "code",
      "metadata": {
        "colab": {
          "base_uri": "https://localhost:8080/"
        },
        "id": "4yWc_LW9DxJF",
        "outputId": "1bc741ee-9e69-4e97-cfbd-f1bedf73b8e9"
      },
      "source": [
        "# text\n",
        "import math                     # Librería para utilizar símbolos matemáticos como el número pi, que se escribe como math.pi\n",
        "from sympy import *             # Librería para trabajo simbólico\n",
        "import numpy as np              # Librería para poder trabajar con matrices y vectores\n",
        "import matplotlib.pyplot as plt # Librería para poder dibujar gráficas\n",
        "\n",
        "x=symbols('x')\n",
        "\n",
        "#siempre todos los datos en SI\n",
        "\n",
        "GIGA = 10**9\n",
        "MEGA = 10**6\n",
        "KILO = 10**(3)\n",
        "mili = 10**(-3)\n",
        "d=32*mili\n",
        "ES=205*GIGA\n",
        "EA=70*GIGA\n",
        "alfaS = 12*10**(-6)\n",
        "alfaA = 24*10**(-6)\n",
        "W= 3560\n",
        "r=d/2\n",
        "\n",
        "A = math.pi * r**2\n",
        "\n",
        "print(\"A =\", round(A, 6), \"m^2\")\n",
        "\n",
        "deltaT=W/(2*ES*A*(alfaA-alfaS))\n",
        "\n",
        "print(\"deltaT =\", round(deltaT, 4), \"ºC\")"
      ],
      "execution_count": 2,
      "outputs": [
        {
          "output_type": "stream",
          "text": [
            "A = 0.000804 m^2\n",
            "deltaT = 0.8997 ºC\n"
          ],
          "name": "stdout"
        }
      ]
    },
    {
      "cell_type": "code",
      "metadata": {
        "id": "ro_OjSrMo94T"
      },
      "source": [
        ""
      ],
      "execution_count": null,
      "outputs": []
    },
    {
      "cell_type": "code",
      "metadata": {
        "id": "7TNLEKZDo94U"
      },
      "source": [
        ""
      ],
      "execution_count": null,
      "outputs": []
    },
    {
      "cell_type": "code",
      "metadata": {
        "id": "vjbxrQefo94W"
      },
      "source": [
        ""
      ],
      "execution_count": null,
      "outputs": []
    }
  ]
}