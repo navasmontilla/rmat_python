{
  "nbformat": 4,
  "nbformat_minor": 0,
  "metadata": {
    "kernelspec": {
      "display_name": "Python 3",
      "language": "python",
      "name": "python3"
    },
    "language_info": {
      "codemirror_mode": {
        "name": "ipython",
        "version": 3
      },
      "file_extension": ".py",
      "mimetype": "text/x-python",
      "name": "python",
      "nbconvert_exporter": "python",
      "pygments_lexer": "ipython3",
      "version": "3.7.4"
    },
    "colab": {
      "name": "Tema 2 P2_7.ipynb",
      "provenance": []
    }
  },
  "cells": [
    {
      "cell_type": "markdown",
      "metadata": {
        "id": "Dj7-29Yto94L"
      },
      "source": [
        "P2.7"
      ]
    },
    {
      "cell_type": "code",
      "metadata": {
        "colab": {
          "base_uri": "https://localhost:8080/"
        },
        "id": "J75T8AvDo94O",
        "outputId": "f57b3304-c986-413f-e62f-056b56afa5ce"
      },
      "source": [
        "# text\n",
        "import math                     # Librería para utilizar símbolos matemáticos como el número pi, que se escribe como math.pi\n",
        "from sympy import *             # Librería para trabajo simbólico\n",
        "import numpy as np              # Librería para poder trabajar con matrices y vectores\n",
        "import matplotlib.pyplot as plt # Librería para poder dibujar gráficas\n",
        "\n",
        "x=symbols('x')\n",
        "\n",
        "GIGA = 10**9\n",
        "MEGA = 10**6\n",
        "KILO = 10**(3)\n",
        "mili = 10**(-3)\n",
        "deltaT = 350.0\n",
        "d1 = 15.0*mili\n",
        "r1 = d1/2\n",
        "d2 = 21.0*mili\n",
        "r2 = d2/2\n",
        "L1 = 1100.0*mili\n",
        "L2 = 400.0*mili\n",
        "Llibre=L1-L2\n",
        "Eb = 110.0*GIGA\n",
        "Eac = 210.0*GIGA\n",
        "alfab = 20*10**(-6)\n",
        "alfaac = 12*10**(-6)\n",
        "Aac = math.pi * r1**2\n",
        "Ab = math.pi * (r2**2-r1**2)\n",
        "#print(\"Con r1=\", r1, \"m , r2=\", r2, \"m :\")\n",
        "print(\"CÁLCUOS INTERMEDIOS\")\n",
        "\n",
        "print(\"Aac  =\",Aac  ,\"m^2\")\n",
        "print(\"Ab =\",Ab,\"m^2\")\n",
        "\n",
        "DeltaLlibre=alfaac*deltaT*Llibre\n",
        "\n",
        "print(\"DeltaLlibre = alfaac*deltaT*Llibre =\",DeltaLlibre ,\"m\")\n",
        "#print(\"DeltaLlibre =\",DeltaLlibre/mili ,\"mm\")\n",
        "\n",
        "DeltaLacTrac = x*L2/(Eac*Aac)\n",
        "DeltaLacTemp = alfaac*deltaT*L2\n",
        "DeltaLbTcomp = -x*L2/(Eb*Ab)\n",
        "DeltaLbTemp = alfab*deltaT*L2\n",
        "\n",
        "DeltaLac = DeltaLacTrac + DeltaLacTemp\n",
        "DeltaLb = DeltaLbTcomp + DeltaLbTemp\n",
        "\n",
        "print(\"-->x es la fuerza N \")  \n",
        "\n",
        "print(\"DeltaLacTrac = N L2/(Eac Aac)=\", DeltaLacTrac)\n",
        "print(\"DeltaLacTemp = alfaac deltaT L2=\", alfaac*deltaT*L2)\n",
        "print(\"DeltaLbTcomp = -N L2/(Eb Ab)=\",-x*L2/(Eb*Ab) )\n",
        "print(\"DeltaLbTemp = alfab deltaT L2=\", alfab*deltaT*L2) \n",
        "\n",
        "def DeltaLac_x(x):        \n",
        "   return (DeltaLac) \n",
        "DeltaLac=DeltaLac_x(x) \n",
        "print(\"DeltaLac(x) = \", DeltaLac)  \n",
        "\n",
        "def DeltaLb_x(x):        \n",
        "   return (DeltaLb) \n",
        "DeltaLb=DeltaLb_x(x) \n",
        "print(\"DeltaLb(x) = \", DeltaLb)   \n",
        "\n",
        "def deltas_x(x):        \n",
        "   return (DeltaLac-DeltaLb) \n",
        "deltas=deltas_x(x) \n",
        "print(\"DeltaLac-DeltaLb(x) = 0 =\", deltas)   \n",
        "\n",
        "deltas.subs([(x, 0)])\n",
        "deltas_n=deltas.subs([(x, 0)])\n",
        "deltas.subs([(x, 1)])\n",
        "deltas_m=deltas.subs([(x, 1)])-deltas_n\n",
        "\n",
        "print(\"-->x es la fuerza N \")\n",
        "\n",
        "print(\"RESULTADOS INTERMEDIOS\")\n",
        "\n",
        "N=-deltas_n/deltas_m\n",
        "print(\"N = \", round(N, 0), \"Newtons = \", round(N/1000, 2), \"kNewtons\")\n",
        "\n",
        "print(\"DeltaLacTrac = N L2/(Eac Aac)=\", round(N*L2/(Eac*Aac),6), \"m\")\n",
        "print(\"DeltaLacTemp = alfaac deltaT L2=\", round(alfaac*deltaT*L2, 6),\"m\")\n",
        "print(\"DeltaLbTcomp = -N L2/(Eb Ab)=\", round(-N*L2/(Eb*Ab), 6),\"m\")\n",
        "print(\"DeltaLbTemp = alfab deltaT L2=\", round(alfab*deltaT*L2, 6),\"m\") \n",
        "\n",
        "\n",
        "print(\"SOLUCIÓN\")\n",
        "\n",
        "DeltaL = DeltaLlibre  -N*L2/(Eb*Ab) + alfab*deltaT*L2\n",
        "print(\"DeltaL = \", round(DeltaL, 7), \"m =\", round(DeltaL*1000, 0), \"mm\")"
      ],
      "execution_count": null,
      "outputs": [
        {
          "output_type": "stream",
          "text": [
            "CÁLCUOS INTERMEDIOS\n",
            "Aac  = 0.00017671458676442585 m^2\n",
            "Ab = 0.00016964600329384886 m^2\n",
            "DeltaLlibre = alfaac*deltaT*Llibre = 0.00294 m\n",
            "-->x es la fuerza N \n",
            "DeltaLacTrac = N L2/(Eac Aac)= 1.07787474686575e-8*x\n",
            "DeltaLacTemp = alfaac deltaT L2= 0.00168\n",
            "DeltaLbTcomp = -N L2/(Eb Ab)= -2.14350091706256e-8*x\n",
            "DeltaLbTemp = alfab deltaT L2= 0.0028\n",
            "DeltaLac(x) =  1.07787474686575e-8*x + 0.00168\n",
            "DeltaLb(x) =  -2.14350091706256e-8*x + 0.0028\n",
            "DeltaLac-DeltaLb(x) = 0 = 3.22137566392831e-8*x - 0.00112\n",
            "-->x es la fuerza N \n",
            "RESULTADOS INTERMEDIOS\n",
            "N =  34768.0 Newtons =  34.77 kNewtons\n",
            "DeltaLacTrac = N L2/(Eac Aac)= 0.000375 m\n",
            "DeltaLacTemp = alfaac deltaT L2= 0.00168 m\n",
            "DeltaLbTcomp = -N L2/(Eb Ab)= -0.000745 m\n",
            "DeltaLbTemp = alfab deltaT L2= 0.0028 m\n",
            "SOLUCIÓN\n",
            "DeltaL =  0.0049948 m = 5.0 mm\n"
          ],
          "name": "stdout"
        }
      ]
    }
  ]
}