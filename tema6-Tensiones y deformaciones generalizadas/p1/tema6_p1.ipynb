{
 "cells": [
  {
   "cell_type": "markdown",
   "metadata": {},
   "source": [
    "**Tema 6 - P2. Enunciado**\n",
    "------------------------------------------------------------------------------\n",
    "***"
   ]
  },
  {
   "cell_type": "markdown",
   "metadata": {},
   "source": [
    "Un ladrillo con dimensiones $8 \\times 4 \\times 2.5$ cm se comprime en una prueba de laboratorio  en  la  dirección  de  mayor  lado.  Si  la  tensión  tangencial  máxima  que  puede  soportar el material es $7.2$ MPa y la tensión de compresión máxima de $25.5$ MPa. ¿Qué fuerza se requiere para romper el ladrillo?"
   ]
  },
  {
   "cell_type": "markdown",
   "metadata": {},
   "source": [
    "**Resolución:**\n",
    "------------------------------------------------------------------------------\n",
    "\n",
    "**Inicialización**\n",
    "\n",
    "Para comenzar, cargaremos las librerías necesarias y definiremos  $\\tau_{max}=7.2$ MPa y $\\sigma_{max}=25$ MPa, así como el área de la sección transversal: "
   ]
  },
  {
   "cell_type": "code",
   "execution_count": 1,
   "metadata": {},
   "outputs": [],
   "source": [
    "from sympy import *             # Librería para trabajo simbólico\n",
    "import math                     # Librería para utilizar símbolos matemáticos como el número pi, que se escribe como math.pi\n",
    "import numpy as np              # Librería para poder trabajar con matrices y vectores\n",
    "import matplotlib.pyplot as plt # Librería para poder dibujar gráficas\n",
    "\n",
    "tau_max= 7.2e6 #Pa\n",
    "sigma_max= 25.5e6 #Pa\n",
    "\n",
    "A=0.04*0.025 #m^2"
   ]
  },
  {
   "cell_type": "markdown",
   "metadata": {},
   "source": [
    "Para conocer la fuerza mínima con la que se romperá el ladrillo, calcularemos la fuerza asociada a $\\sigma_{max}$ y $\\tau_{max}$ y buscaremos la mínima de las dos:"
   ]
  },
  {
   "cell_type": "code",
   "execution_count": 2,
   "metadata": {},
   "outputs": [
    {
     "name": "stdout",
     "output_type": "stream",
     "text": [
      "Probamos con sigma_max y obtenemos F_max= 25.5 KN\n",
      "Probamos con tau_max y obtenemos F_max= 14.4 KN\n"
     ]
    }
   ],
   "source": [
    "F_max=sigma_max*A/1000 #KN\n",
    "\n",
    "print(\"Probamos con sigma_max y obtenemos F_max=\",F_max, \"KN\")\n",
    "\n",
    "F_max=tau_max*2*A/1000 #KN\n",
    "\n",
    "print(\"Probamos con tau_max y obtenemos F_max=\",F_max, \"KN\")"
   ]
  },
  {
   "cell_type": "markdown",
   "metadata": {},
   "source": [
    "Observamos que se alcanza $\\tau_{max}$ cuando aplicamos $14.4$ KN, por tanto, **ésta es la fuerza requerida para romper el ladrillo**. \n",
    "\n",
    "Podemos observar que al aplicar $F=14.4$ KN, la tensión normal a la que se somete el material es:"
   ]
  },
  {
   "cell_type": "code",
   "execution_count": 3,
   "metadata": {},
   "outputs": [
    {
     "name": "stdout",
     "output_type": "stream",
     "text": [
      "Al aplicar $F=14.4$ KN, la tensión normal es: sigma= 14.4 MPa\n"
     ]
    }
   ],
   "source": [
    "sigma=F_max/A/1000 #MPa\n",
    "\n",
    "print(\"Al aplicar $F=14.4$ KN, la tensión normal es: sigma=\",sigma, \"MPa\")"
   ]
  },
  {
   "cell_type": "markdown",
   "metadata": {},
   "source": [
    "Observando que 14.4 MPa < $\\sigma_{max}=25$ MPa."
   ]
  },
  {
   "cell_type": "code",
   "execution_count": null,
   "metadata": {},
   "outputs": [],
   "source": []
  }
 ],
 "metadata": {
  "kernelspec": {
   "display_name": "Python 3",
   "language": "python",
   "name": "python3"
  },
  "language_info": {
   "codemirror_mode": {
    "name": "ipython",
    "version": 3
   },
   "file_extension": ".py",
   "mimetype": "text/x-python",
   "name": "python",
   "nbconvert_exporter": "python",
   "pygments_lexer": "ipython3",
   "version": "3.7.6"
  }
 },
 "nbformat": 4,
 "nbformat_minor": 4
}
