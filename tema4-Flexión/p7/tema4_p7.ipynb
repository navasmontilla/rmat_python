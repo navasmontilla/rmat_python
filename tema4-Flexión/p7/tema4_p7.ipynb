{
 "cells": [
  {
   "cell_type": "markdown",
   "metadata": {},
   "source": [
    "**Resolución P9 (sección 2) mediante superposición**\n",
    "------------------------------------------------------------------------------\n",
    "***"
   ]
  },
  {
   "cell_type": "markdown",
   "metadata": {},
   "source": [
    "> El siguiente código calcula el la solución del problema (sección 2) mediante cálculo simbólico. La solución a este problema se realiza aplicando el método de superposición, utilizando los casos 8 y 3 de las transparencias."
   ]
  },
  {
   "cell_type": "code",
   "execution_count": 1,
   "metadata": {
    "scrolled": false
   },
   "outputs": [
    {
     "name": "stdout",
     "output_type": "stream",
     "text": [
      "La expresión de la deflexion en el tramo L/3 < x < 2L/3 es:  L*W*(-L**2/9 + 3*L*x - 3*x**2)/(36*E*I) - W*x*(L**3 - 2*L*x**2 + x**3)/(24*E*I*L)\n",
      "La expresión de la flecha en x=L/2 respecto a los apoyos es:  19*L**3*W/(31104*E*I)\n"
     ]
    }
   ],
   "source": [
    "from sympy import *             # Librería para trabajo simbólico\n",
    "import math                     # Librería para utilizar símbolos matemáticos como el número pi, que se escribe como math.pi\n",
    "import numpy as np              # Librería para poder trabajar con matrices y vectores\n",
    "import matplotlib.pyplot as plt # Librería para poder dibujar gráficas\n",
    "\n",
    "#variable simbólicas\n",
    "x=symbols('x') \n",
    "W,L,E,I=symbols('W L E I')\n",
    "\n",
    "# Calculo por superposición utlizando caso8+caso3\n",
    "def v_c8(x):        \n",
    "    return  -W/L*x/(24*E*I)*(x**3-2*L*x**2+L**3) #expresion de la deflexión caso 8 de las tablas con q=W/L\n",
    "\n",
    "def v_c3(x):        \n",
    "    return  W*(L/3)/(12*E*I)*(-3*x**2-(L/3)**2+3*L*x) #expresion de la deflexión caso 3 de las tablas con F=-W/2 y a=L/3\n",
    "\n",
    "v8=v_c8(x) \n",
    "v3=v_c3(x) \n",
    "\n",
    "def deflexion(x):\n",
    "    return v8+v3 #aquí se aplica el principio de superposición\n",
    "\n",
    "v=deflexion(x) \n",
    "print(\"La expresión de la deflexion en el tramo L/3 < x < 2L/3 es: \", v)\n",
    "\n",
    "# para calcular la solución del problema tenemos que restar la deflexión en x=L/2 menos la deflexión en x=L/3\n",
    "delta= v.subs([(x,L/2)]) - v.subs([(x,L/3)]) \n",
    "print(\"La expresión de la flecha en x=L/2 respecto a los apoyos es: \", delta)\n",
    "\n"
   ]
  },
  {
   "cell_type": "code",
   "execution_count": null,
   "metadata": {},
   "outputs": [],
   "source": []
  }
 ],
 "metadata": {
  "kernelspec": {
   "display_name": "Python 3",
   "language": "python",
   "name": "python3"
  },
  "language_info": {
   "codemirror_mode": {
    "name": "ipython",
    "version": 3
   },
   "file_extension": ".py",
   "mimetype": "text/x-python",
   "name": "python",
   "nbconvert_exporter": "python",
   "pygments_lexer": "ipython3",
   "version": "3.7.4"
  }
 },
 "nbformat": 4,
 "nbformat_minor": 2
}
