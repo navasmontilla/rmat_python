{
 "cells": [
  {
   "cell_type": "markdown",
   "metadata": {},
   "source": [
    "**Problema 10**\n",
    "------------------------------------------------------------------------------\n",
    "***"
   ]
  },
  {
   "cell_type": "code",
   "execution_count": 4,
   "metadata": {},
   "outputs": [
    {
     "name": "stdout",
     "output_type": "stream",
     "text": [
      "Rb= -3.34262755102041\n",
      "Ra= 3.34262755102041\n",
      "Ma= 4.79678571428572\n",
      "-2744*Rb/(3*E*I)\n",
      "-3057.39/(E*I)\n"
     ]
    }
   ],
   "source": [
    "from sympy import *             # Librería para trabajo simbólico\n",
    "import math                     # Librería para utilizar símbolos matemáticos como el número pi, que se escribe como math.pi\n",
    "import numpy as np              # Librería para poder trabajar con matrices y vectores\n",
    "import matplotlib.pyplot as plt # Librería para poder dibujar gráficas\n",
    "\n",
    "#-------------------------------------------------------------------------------------#\n",
    "#----------------------------- CÁLCULO POR SUPERPOSICIÓN -----------------------------#\n",
    "#-------------------------------------------------------------------------------------#  \n",
    "\n",
    "#para hacer el cálculo por superposición, considero Rb la incógnita hiperestática, es decir, supongo que esta será\n",
    "#una solicitación y luego impondré que el desplazamiento vertical del punto B será cero\n",
    "Rb=symbols('Rb') \n",
    "\n",
    "E,I,L,Q,M,a,b=symbols('E I L Q M a b') \n",
    "\n",
    "a=6.2\n",
    "b=6.9\n",
    "L=14\n",
    "Q=0\n",
    "M=42 \n",
    "\n",
    "d1= -Rb*L**3/(3*E*I)      \n",
    "d2= -M*b/(2*E*I)*(2*L-b)\n",
    "d3= 0.0#-Q*a**2/(6*E*I)*(3*L-a)  \n",
    "\n",
    "#ahora impongo que el desplazamiento vertical de B, calculado como la suma de d1+d2+d7, es cero y resuelvo Rb\n",
    "sole,=linsolve([  d1+d2+d3,\n",
    "             ], (Rb))\n",
    "\n",
    "\n",
    "\n",
    "Rb=factor((sole[0]))\n",
    "Ra=-Rb\n",
    "Ma=-M-Rb*L\n",
    "\n",
    "\n",
    "print(\"Rb=\", Rb)\n",
    "print(\"Ra=\", Ra)\n",
    "print(\"Ma=\", Ma)\n",
    "\n",
    "\n",
    "\n",
    "\n",
    "print(d1)\n",
    "print(d2)\n",
    "#y ahora calculo Ra utilizando ΣFy=0 ->  Ra+Rb-P=0,\n",
    "#print(\"Ra=\", factor(-Q-(sole[0])))\n"
   ]
  },
  {
   "cell_type": "code",
   "execution_count": null,
   "metadata": {},
   "outputs": [],
   "source": []
  },
  {
   "cell_type": "code",
   "execution_count": null,
   "metadata": {},
   "outputs": [],
   "source": []
  },
  {
   "cell_type": "code",
   "execution_count": null,
   "metadata": {},
   "outputs": [],
   "source": []
  }
 ],
 "metadata": {
  "kernelspec": {
   "display_name": "Python 3",
   "language": "python",
   "name": "python3"
  },
  "language_info": {
   "codemirror_mode": {
    "name": "ipython",
    "version": 3
   },
   "file_extension": ".py",
   "mimetype": "text/x-python",
   "name": "python",
   "nbconvert_exporter": "python",
   "pygments_lexer": "ipython3",
   "version": "3.7.6"
  }
 },
 "nbformat": 4,
 "nbformat_minor": 2
}
