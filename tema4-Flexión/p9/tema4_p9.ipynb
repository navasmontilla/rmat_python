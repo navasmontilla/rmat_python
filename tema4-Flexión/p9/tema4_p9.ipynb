{
 "cells": [
  {
   "cell_type": "markdown",
   "metadata": {},
   "source": [
    "Problema 13 resuelto mediante Tª Menabrea"
   ]
  },
  {
   "cell_type": "code",
   "execution_count": 5,
   "metadata": {},
   "outputs": [
    {
     "name": "stdout",
     "output_type": "stream",
     "text": [
      "M*dM/dx en el tramo 1 es: (-L + x)*(-L*P + Ra*(-L + x))\n",
      "M*dM/dx en el tramo 2 es: 0\n",
      "dU/dRa es: (L**3*Ra/3 + L**2*(-L*P/2 - L*Ra) + L*(L**2*P + L**2*Ra))/(E*I)\n",
      "Rb es: 5*P/2\n"
     ]
    }
   ],
   "source": [
    "from sympy import *             # Librería para trabajo simbólico\n",
    "import math                     # Librería para utilizar símbolos matemáticos como el número pi, que se escribe como math.pi\n",
    "import numpy as np              # Librería para poder trabajar con matrices y vectores\n",
    "\n",
    "Ra,x,L,P,E,I=symbols('Ra x L P E I')\n",
    "\n",
    "M1=Ra*(x-L)-P*L #momento en el tramo 1, veis que está en función de Ra\n",
    "M2=P*(x-2*L) #momento en el tramo 2, este no depende de Ra (casualidad de este ejercicio)\n",
    "\n",
    "M1dM1=diff(M1,Ra)*M1 #M*dM/dx en el tramo 1\n",
    "M2dM2=diff(M2,Ra)*M2 #M*dM/dx en el tramo 1, que es cero porque M2 no depende de Ra\n",
    "\n",
    "print('M*dM/dx en el tramo 1 es:',M1dM1)\n",
    "print('M*dM/dx en el tramo 2 es:',M2dM2)\n",
    "\n",
    "dUdRa=1/(E*I)*(integrate(M1dM1,(x, 0, L))+integrate(M2dM2,(x, L, 2*L))) #esto es la derivada de la energía respecto de Ra\n",
    "\n",
    "print('dU/dRa es:',dUdRa)\n",
    "\n",
    "Ra,=solve(dUdRa,Ra) #aqui resolvemos dU/dRa=0, y se obtiene Ra\n",
    "\n",
    "Rb=P-Ra #con esto obtenemos Rb. Esta relación viene del equilibrio de fuerzas en \"y\" (estática)\n",
    "\n",
    "print('Rb es:',Rb)"
   ]
  },
  {
   "cell_type": "code",
   "execution_count": null,
   "metadata": {},
   "outputs": [],
   "source": []
  }
 ],
 "metadata": {
  "kernelspec": {
   "display_name": "Python 3",
   "language": "python",
   "name": "python3"
  },
  "language_info": {
   "codemirror_mode": {
    "name": "ipython",
    "version": 3
   },
   "file_extension": ".py",
   "mimetype": "text/x-python",
   "name": "python",
   "nbconvert_exporter": "python",
   "pygments_lexer": "ipython3",
   "version": "3.7.6"
  }
 },
 "nbformat": 4,
 "nbformat_minor": 4
}
