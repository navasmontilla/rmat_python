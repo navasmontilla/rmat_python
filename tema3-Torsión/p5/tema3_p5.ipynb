{
 "cells": [
  {
   "cell_type": "markdown",
   "metadata": {},
   "source": [
    "\n",
    "**Ejercicio 5**\n",
    "> Una barra circular de acero y radio $R=10 cm$ y longitud $L=1.0 m$ con extremos fijos, está sometida a los\n",
    "> pares $-T_0$ y $-2T_0$ que actúan en las posiciones $x=3L/10$ y $x=6L/10$, respectivamente. El valor de $T_0=1000.0 ~ N.m$\n",
    "\n",
    "- (a) Obtenga una fórmula para el máximo ángulo de torsión $\\phi$ de la barra.\n",
    "- (b) Compruebe gráficamente que el valor obtenido se corresponde con el valor analítico esperado.\n",
    " \n",
    "*Dato: modulo de rigidez del acero $G=85.0~GPa$*"
   ]
  },
  {
   "cell_type": "code",
   "execution_count": 1,
   "metadata": {},
   "outputs": [
    {
     "name": "stdout",
     "output_type": "stream",
     "text": [
      "Máximo ángulo de torsión (radianes) =  -0.4493786628477045\n"
     ]
    },
    {
     "data": {
      "text/plain": [
       "<matplotlib.legend.Legend at 0x246f7450c08>"
      ]
     },
     "execution_count": 1,
     "metadata": {},
     "output_type": "execute_result"
    },
    {
     "data": {
      "image/png": "[encoded data removed]",
      "text/plain": [
       "<Figure size 1080x288 with 1 Axes>"
      ]
     },
     "metadata": {
      "needs_background": "light"
     },
     "output_type": "display_data"
    }
   ],
   "source": [
    "from sympy import *             # Librería para trabajo simbólico\n",
    "import math                     # Librería para utilizar símbolos matemáticos como el número pi, que se escribe como math.pi\n",
    "import numpy as np              # Librería para poder trabajar con matrices y vectores\n",
    "import matplotlib.pyplot as plt # Librería para poder dibujar gráficas\n",
    "\n",
    "# Utilizando los siguientes datos, podemos pintar el resultado de la deformación angular\n",
    "To = 1000.0   # en N.m\n",
    "L = 1.0       # en metros\n",
    "G = 85.0e9    # modulo de rigidez del acero en Pa\n",
    "R= 0.01       # en metros\n",
    "Ip =math.pi*R**4/2.0  # momento de inercia\n",
    "x1= 3.0*L/10.0        # posición torsión To\n",
    "x2= x1+3.0*L/10.0     # posición torsión 2*To\n",
    "\n",
    "# Resolviendo analíticamente el problema hiperestático\n",
    "# Ta+Td = 3*To (1-Ecuación estática)\n",
    "# phi_ab_max+phi_bc_max+phi_cd_max = 0 (2-Ecuación de compatibilidad)\n",
    "# Se obtiene:\n",
    "Ta= 3.0*To/2.0\n",
    "Td= Ta\n",
    "\n",
    "# Con el método de las secciones llegamos a las siguientes soluciones para los ángulos máximos en cada tramo\n",
    "phi_ab_max = -x1*Ta/(G*Ip)\n",
    "phi_bc_max =  x1*(To-Ta)/(G*Ip)\n",
    "phi_cd_max =  (L-x2)*(3.0*To-Ta)/(G*Ip)\n",
    "\n",
    "# El ángulo máximo es:\n",
    "phi_max= -3.0*L*To/(5.0*G*Ip)\n",
    "print(\"Máximo ángulo de torsión (radianes) = \",phi_max)\n",
    "\n",
    "#-------------------------------------------------------------------------------------#\n",
    "x=symbols('x')  # x = distancia al origen               \n",
    "\n",
    "# Ángulo en función de la distancia al origen en los distintos tramos\n",
    "def phi_ab(x):        \n",
    "    return  phi_ab_max*x/x1\n",
    "\n",
    "def phi_bc(x):        \n",
    "    return  phi_ab_max+phi_bc_max*(x-x1)/x1\n",
    "\n",
    "def phi_cd(x):        \n",
    "    return  phi_ab_max + phi_bc_max + phi_cd_max*(x-x2)/(L-x2)\n",
    "#-------------------------------------------------------------------------------------#\n",
    "\n",
    "# Representación gráfica\n",
    "Xmin= 0.0 ; Xmax=L; nopto=50 # (Xmin,Xmax,nopto) = (extremo inferior, extremo superior, número de puntos que se pintan)\n",
    "\n",
    "xab=np.linspace(0.0,x1,nopto)\n",
    "xbc=np.linspace(x1,x2,nopto)\n",
    "xcd=np.linspace(x2,L,nopto)\n",
    "xx=np.linspace(0.0,L,nopto)\n",
    "\n",
    "fab=np.zeros((nopto,))\n",
    "fbc=np.zeros((nopto,))\n",
    "fcd=np.zeros((nopto,))\n",
    "fmax=np.zeros((nopto,))\n",
    "\n",
    "for i in range(0,nopto):              \n",
    "    fab[i]=phi_ab(x).subs(x,xab[i]) \n",
    "    fbc[i]=phi_bc(x).subs(x,xbc[i]) \n",
    "    fcd[i]=phi_cd(x).subs(x,xcd[i]) \n",
    "    fmax[i]=phi_max                             \n",
    "      \n",
    "fig, ax = plt.subplots(figsize=(15,4))  # Esto es como decir \"Abracadabra! Hágase la figura!\". \n",
    "                                        # Se genera un objeto figura que definimos a continuación\n",
    "ax.plot(xab,fab, color=\"red\", label=\"$\\phi_{AB}$ (rad)\")\n",
    "ax.plot(xbc,fbc, color=\"blue\", label=\"$\\phi_{BC}$ (rad)\") \n",
    "ax.plot(xcd,fcd, color=\"green\", label=\"$\\phi_{CD}$ (rad)\")\n",
    "ax.plot(xx,fmax, color=\"black\", label=\"$\\phi_{max}$ (rad)\")\n",
    "ax.set_xlabel(\"$x (m)$\",size=20) # Nombre y unidades del eje x\n",
    "ax.set_ylim(phi_max*(1.05),-phi_max*1.05)\n",
    "ax.set_xlim(0.0,L)\n",
    "ax.legend(fontsize=15) # Hace que se pinte la leyenda\n"
   ]
  },
  {
   "cell_type": "code",
   "execution_count": null,
   "metadata": {},
   "outputs": [],
   "source": []
  }
 ],
 "metadata": {
  "kernelspec": {
   "display_name": "Python 3",
   "language": "python",
   "name": "python3"
  },
  "language_info": {
   "codemirror_mode": {
    "name": "ipython",
    "version": 3
   },
   "file_extension": ".py",
   "mimetype": "text/x-python",
   "name": "python",
   "nbconvert_exporter": "python",
   "pygments_lexer": "ipython3",
   "version": "3.7.6"
  }
 },
 "nbformat": 4,
 "nbformat_minor": 2
}
